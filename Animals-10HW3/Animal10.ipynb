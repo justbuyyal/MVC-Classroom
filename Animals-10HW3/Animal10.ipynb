{
 "cells": [
  {
   "cell_type": "code",
   "execution_count": 1,
   "metadata": {},
   "outputs": [],
   "source": [
    "import numpy as np\n",
    "import torch\n",
    "import torch.nn as nn\n",
    "from torchvision import datasets\n",
    "import torchvision.transforms as transforms\n",
    "from torch.utils.data import Dataset, DataLoader\n",
    "from sklearn.metrics import confusion_matrix"
   ]
  },
  {
   "cell_type": "code",
   "execution_count": 2,
   "metadata": {},
   "outputs": [],
   "source": [
    "transform = transforms.Compose(\n",
    "    [transforms.Resize(224),\n",
    "     transforms.RandomHorizontalFlip(0.4),\n",
    "     transforms.RandomVerticalFlip(),\n",
    "     transforms.ToTensor(),\n",
    "     transforms.Normalize((0.485, 0.456, 0.406), (0.229, 0.224, 0.225))])"
   ]
  },
  {
   "cell_type": "code",
   "execution_count": 3,
   "metadata": {},
   "outputs": [
    {
     "name": "stdout",
     "output_type": "stream",
     "text": [
      "Files already downloaded and verified\n",
      "Files already downloaded and verified\n"
     ]
    }
   ],
   "source": [
    "batch_size = 4\n",
    "\n",
    "train_dataset = datasets.CIFAR10(root='./data', train=True, download=True, transform=transform)\n",
    "train_len = int(len(train_dataset) * 0.8)\n",
    "val_len = len(train_dataset) - train_len\n",
    "trainset, valset = torch.utils.data.random_split(train_dataset, [train_len, val_len])\n",
    "\n",
    "train_loader = DataLoader(trainset, batch_size=batch_size, shuffle=True, num_workers=2)\n",
    "\n",
    "val_loader = DataLoader(valset, batch_size=batch_size, shuffle=True, num_workers=2)\n",
    "\n",
    "test_dataset = datasets.CIFAR10(root='./data', train=False, download=True, transform=transform)\n",
    "test_loader = DataLoader(test_dataset, batch_size=batch_size, shuffle=False, num_workers=2)"
   ]
  },
  {
   "cell_type": "code",
   "execution_count": 4,
   "metadata": {},
   "outputs": [],
   "source": [
    "import torch.nn.functional as F\n",
    "class CNN(nn.Module):\n",
    "    def __init__(self):\n",
    "        super().__init__()\n",
    "        self.conv1 = nn.Conv2d(3, 6, 5)\n",
    "        self.batch_nor1 = nn.BatchNorm2d(6)\n",
    "        self.pool = nn.MaxPool2d(2, 2)\n",
    "        self.conv2 = nn.Conv2d(6, 16, 5)\n",
    "        self.batch_nor2 = nn.BatchNorm2d(16)\n",
    "        self.fc1 = nn.Linear(16 * 53 * 53, 120)\n",
    "        self.fc2 = nn.Linear(120, 84)\n",
    "        self.fc3 = nn.Linear(84, 10)\n",
    "\n",
    "    def forward(self, x):\n",
    "        x = self.pool(F.relu(self.batch_nor1(self.conv1(x))))\n",
    "        x = self.pool(F.relu(self.batch_nor2(self.conv2(x))))\n",
    "        x = torch.flatten(x, 1) # flatten all dimensions except batch\n",
    "        x = F.relu(self.fc1(x))\n",
    "        x = F.relu(self.fc2(x))\n",
    "        x = self.fc3(x)\n",
    "        return x"
   ]
  },
  {
   "cell_type": "code",
   "execution_count": 5,
   "metadata": {},
   "outputs": [
    {
     "name": "stdout",
     "output_type": "stream",
     "text": [
      "----------------------------------------------------------------\n",
      "        Layer (type)               Output Shape         Param #\n",
      "================================================================\n",
      "            Conv2d-1          [-1, 6, 220, 220]             456\n",
      "       BatchNorm2d-2          [-1, 6, 220, 220]              12\n",
      "         MaxPool2d-3          [-1, 6, 110, 110]               0\n",
      "            Conv2d-4         [-1, 16, 106, 106]           2,416\n",
      "       BatchNorm2d-5         [-1, 16, 106, 106]              32\n",
      "         MaxPool2d-6           [-1, 16, 53, 53]               0\n",
      "            Linear-7                  [-1, 120]       5,393,400\n",
      "            Linear-8                   [-1, 84]          10,164\n",
      "            Linear-9                   [-1, 10]             850\n",
      "================================================================\n",
      "Total params: 5,407,330\n",
      "Trainable params: 5,407,330\n",
      "Non-trainable params: 0\n",
      "----------------------------------------------------------------\n",
      "Input size (MB): 0.57\n",
      "Forward/backward pass size (MB): 8.07\n",
      "Params size (MB): 20.63\n",
      "Estimated Total Size (MB): 29.27\n",
      "----------------------------------------------------------------\n"
     ]
    }
   ],
   "source": [
    "from torchsummary import summary\n",
    "test_model = CNN()\n",
    "summary(test_model, (3, 224, 224), device=\"cpu\")"
   ]
  },
  {
   "cell_type": "code",
   "execution_count": 19,
   "metadata": {},
   "outputs": [],
   "source": [
    "device = torch.device(\"cuda:0\" if torch.cuda.is_available() else \"cpu\")\n",
    "model = CNN().to(device)\n",
    "import torch.optim as optim\n",
    "\n",
    "criterion = nn.CrossEntropyLoss().to(device)\n",
    "optimizer = optim.SGD(model.parameters(), lr=3e-4, momentum=0.9)\n",
    "scheduler = optim.lr_scheduler.ExponentialLR(optimizer, gamma=0.9)\n",
    "\n",
    "Epoch = 10"
   ]
  },
  {
   "cell_type": "code",
   "execution_count": 7,
   "metadata": {},
   "outputs": [
    {
     "name": "stderr",
     "output_type": "stream",
     "text": [
      "Clipping input data to the valid range for imshow with RGB data ([0..1] for floats or [0..255] for integers).\n"
     ]
    },
    {
     "data": {
      "image/png": "[encoded data removed]",
      "text/plain": [
       "<Figure size 432x288 with 1 Axes>"
      ]
     },
     "metadata": {
      "needs_background": "light"
     },
     "output_type": "display_data"
    },
    {
     "name": "stdout",
     "output_type": "stream",
     "text": [
      "  dog  bird  bird   cat\n"
     ]
    }
   ],
   "source": [
    "import matplotlib.pyplot as plt\n",
    "import torchvision\n",
    "\n",
    "classes = ('plane', 'car', 'bird', 'cat', 'deer', 'dog', 'frog', 'horse', 'ship', 'truck')\n",
    "# functions to show an image\n",
    "def imshow(img):\n",
    "    img = img / 2 + 0.5     # unnormalize\n",
    "    npimg = img.numpy()\n",
    "    plt.imshow(np.transpose(npimg, (1, 2, 0)))\n",
    "    plt.show()\n",
    "\n",
    "\n",
    "# get some random training images\n",
    "dataiter = iter(train_loader)\n",
    "images, labels = dataiter.next()\n",
    "\n",
    "# show images\n",
    "imshow(torchvision.utils.make_grid(images))\n",
    "# print labels\n",
    "print(' '.join('%5s' % classes[labels[j]] for j in range(batch_size)))"
   ]
  },
  {
   "cell_type": "code",
   "execution_count": 8,
   "metadata": {},
   "outputs": [
    {
     "name": "stdout",
     "output_type": "stream",
     "text": [
      "[Epoch: 1,  1999] loss: 2.021\n",
      "[Epoch: 1,  3999] loss: 1.841\n",
      "[Epoch: 1,  5999] loss: 1.760\n",
      "[Epoch: 1,  7999] loss: 1.664\n",
      "[Epoch: 1,  9999] loss: 1.609\n",
      "Validation [Epoch: 1,  2499] loss: 0.384\n",
      "Validation Acc: 44.690 %\n",
      "Learning Rate:  0.00027\n",
      "[Epoch: 2,  1999] loss: 1.562\n",
      "[Epoch: 2,  3999] loss: 1.521\n",
      "[Epoch: 2,  5999] loss: 1.496\n",
      "[Epoch: 2,  7999] loss: 1.464\n",
      "[Epoch: 2,  9999] loss: 1.453\n",
      "Validation [Epoch: 2,  2499] loss: 0.348\n",
      "Validation Acc: 49.680 %\n",
      "Learning Rate:  0.000243\n",
      "[Epoch: 3,  1999] loss: 1.424\n",
      "[Epoch: 3,  3999] loss: 1.398\n",
      "[Epoch: 3,  5999] loss: 1.380\n",
      "[Epoch: 3,  7999] loss: 1.380\n",
      "[Epoch: 3,  9999] loss: 1.378\n",
      "Validation [Epoch: 3,  2499] loss: 0.344\n",
      "Validation Acc: 50.390 %\n",
      "Learning Rate:  0.0002187\n",
      "[Epoch: 4,  1999] loss: 1.325\n",
      "[Epoch: 4,  3999] loss: 1.340\n",
      "[Epoch: 4,  5999] loss: 1.310\n",
      "[Epoch: 4,  7999] loss: 1.307\n",
      "[Epoch: 4,  9999] loss: 1.305\n",
      "Validation [Epoch: 4,  2499] loss: 0.319\n",
      "Validation Acc: 54.760 %\n",
      "Learning Rate:  0.00019683\n",
      "[Epoch: 5,  1999] loss: 1.260\n",
      "[Epoch: 5,  3999] loss: 1.267\n",
      "[Epoch: 5,  5999] loss: 1.286\n",
      "[Epoch: 5,  7999] loss: 1.260\n",
      "[Epoch: 5,  9999] loss: 1.230\n",
      "Validation [Epoch: 5,  2499] loss: 0.311\n",
      "Validation Acc: 55.830 %\n",
      "Learning Rate:  0.000177147\n",
      "[Epoch: 6,  1999] loss: 1.215\n",
      "[Epoch: 6,  3999] loss: 1.208\n",
      "[Epoch: 6,  5999] loss: 1.193\n",
      "[Epoch: 6,  7999] loss: 1.214\n",
      "[Epoch: 6,  9999] loss: 1.207\n",
      "Validation [Epoch: 6,  2499] loss: 0.312\n",
      "Validation Acc: 55.920 %\n",
      "Learning Rate:  0.0001594323\n",
      "[Epoch: 7,  1999] loss: 1.178\n",
      "[Epoch: 7,  3999] loss: 1.178\n",
      "[Epoch: 7,  5999] loss: 1.182\n",
      "[Epoch: 7,  7999] loss: 1.158\n",
      "[Epoch: 7,  9999] loss: 1.140\n",
      "Validation [Epoch: 7,  2499] loss: 0.305\n",
      "Validation Acc: 57.540 %\n",
      "Learning Rate:  0.00014348907\n",
      "[Epoch: 8,  1999] loss: 1.122\n",
      "[Epoch: 8,  3999] loss: 1.118\n",
      "[Epoch: 8,  5999] loss: 1.124\n",
      "[Epoch: 8,  7999] loss: 1.132\n",
      "[Epoch: 8,  9999] loss: 1.123\n",
      "Validation [Epoch: 8,  2499] loss: 0.305\n",
      "Validation Acc: 57.260 %\n",
      "Learning Rate:  0.000129140163\n",
      "[Epoch: 9,  1999] loss: 1.095\n",
      "[Epoch: 9,  3999] loss: 1.085\n",
      "[Epoch: 9,  5999] loss: 1.094\n",
      "[Epoch: 9,  7999] loss: 1.093\n",
      "[Epoch: 9,  9999] loss: 1.094\n",
      "Validation [Epoch: 9,  2499] loss: 0.296\n",
      "Validation Acc: 58.040 %\n",
      "Learning Rate:  0.0001162261467\n",
      "[Epoch: 10,  1999] loss: 1.051\n",
      "[Epoch: 10,  3999] loss: 1.057\n",
      "[Epoch: 10,  5999] loss: 1.062\n",
      "[Epoch: 10,  7999] loss: 1.085\n",
      "[Epoch: 10,  9999] loss: 1.067\n",
      "Validation [Epoch: 10,  2499] loss: 0.297\n",
      "Validation Acc: 58.480 %\n",
      "Learning Rate:  0.00010460353203\n",
      "[Epoch: 11,  1999] loss: 1.037\n",
      "[Epoch: 11,  3999] loss: 1.019\n",
      "[Epoch: 11,  5999] loss: 1.025\n",
      "[Epoch: 11,  7999] loss: 1.036\n",
      "[Epoch: 11,  9999] loss: 1.034\n",
      "Validation [Epoch: 11,  2499] loss: 0.284\n",
      "Validation Acc: 60.570 %\n",
      "Learning Rate:  9.4143178827e-05\n",
      "[Epoch: 12,  1999] loss: 1.015\n",
      "[Epoch: 12,  3999] loss: 0.997\n",
      "[Epoch: 12,  5999] loss: 1.007\n",
      "[Epoch: 12,  7999] loss: 1.008\n",
      "[Epoch: 12,  9999] loss: 0.997\n",
      "Validation [Epoch: 12,  2499] loss: 0.284\n",
      "Validation Acc: 60.660 %\n",
      "Learning Rate:  8.47288609443e-05\n",
      "[Epoch: 13,  1999] loss: 0.990\n",
      "[Epoch: 13,  3999] loss: 0.975\n",
      "[Epoch: 13,  5999] loss: 0.990\n",
      "[Epoch: 13,  7999] loss: 0.978\n",
      "[Epoch: 13,  9999] loss: 0.979\n",
      "Validation [Epoch: 13,  2499] loss: 0.283\n",
      "Validation Acc: 60.460 %\n",
      "Learning Rate:  7.625597484987e-05\n",
      "[Epoch: 14,  1999] loss: 0.955\n",
      "[Epoch: 14,  3999] loss: 0.982\n",
      "[Epoch: 14,  5999] loss: 0.935\n",
      "[Epoch: 14,  7999] loss: 0.973\n",
      "[Epoch: 14,  9999] loss: 0.964\n",
      "Validation [Epoch: 14,  2499] loss: 0.292\n",
      "Validation Acc: 60.270 %\n",
      "Learning Rate:  6.8630377364883e-05\n",
      "[Epoch: 15,  1999] loss: 0.946\n",
      "[Epoch: 15,  3999] loss: 0.906\n",
      "[Epoch: 15,  5999] loss: 0.953\n",
      "[Epoch: 15,  7999] loss: 0.950\n",
      "[Epoch: 15,  9999] loss: 0.923\n",
      "Validation [Epoch: 15,  2499] loss: 0.279\n",
      "Validation Acc: 60.850 %\n",
      "Learning Rate:  6.176733962839471e-05\n",
      "[Epoch: 16,  1999] loss: 0.918\n",
      "[Epoch: 16,  3999] loss: 0.922\n",
      "[Epoch: 16,  5999] loss: 0.913\n",
      "[Epoch: 16,  7999] loss: 0.908\n",
      "[Epoch: 16,  9999] loss: 0.928\n",
      "Validation [Epoch: 16,  2499] loss: 0.281\n",
      "Validation Acc: 61.070 %\n",
      "Learning Rate:  5.559060566555524e-05\n",
      "[Epoch: 17,  1999] loss: 0.898\n",
      "[Epoch: 17,  3999] loss: 0.890\n",
      "[Epoch: 17,  5999] loss: 0.891\n",
      "[Epoch: 17,  7999] loss: 0.909\n",
      "[Epoch: 17,  9999] loss: 0.909\n",
      "Validation [Epoch: 17,  2499] loss: 0.278\n",
      "Validation Acc: 60.860 %\n",
      "Learning Rate:  5.003154509899972e-05\n",
      "[Epoch: 18,  1999] loss: 0.858\n",
      "[Epoch: 18,  3999] loss: 0.866\n",
      "[Epoch: 18,  5999] loss: 0.875\n",
      "[Epoch: 18,  7999] loss: 0.871\n",
      "[Epoch: 18,  9999] loss: 0.885\n",
      "Validation [Epoch: 18,  2499] loss: 0.280\n",
      "Validation Acc: 61.550 %\n",
      "Learning Rate:  4.502839058909975e-05\n",
      "[Epoch: 19,  1999] loss: 0.836\n",
      "[Epoch: 19,  3999] loss: 0.872\n",
      "[Epoch: 19,  5999] loss: 0.863\n",
      "[Epoch: 19,  7999] loss: 0.842\n",
      "[Epoch: 19,  9999] loss: 0.874\n",
      "Validation [Epoch: 19,  2499] loss: 0.278\n",
      "Validation Acc: 61.800 %\n",
      "Learning Rate:  4.052555153018977e-05\n",
      "[Epoch: 20,  1999] loss: 0.834\n",
      "[Epoch: 20,  3999] loss: 0.833\n",
      "[Epoch: 20,  5999] loss: 0.830\n",
      "[Epoch: 20,  7999] loss: 0.837\n",
      "[Epoch: 20,  9999] loss: 0.856\n",
      "Validation [Epoch: 20,  2499] loss: 0.277\n",
      "Validation Acc: 62.070 %\n",
      "Learning Rate:  3.64729963771708e-05\n",
      "Finish Training\n"
     ]
    }
   ],
   "source": [
    "for epoch in range(Epoch):\n",
    "    running_loss = 0.0\n",
    "    running_corrects = 0.0\n",
    "\n",
    "    val_loss = 0.0\n",
    "    val_corrects = 0.0\n",
    "    total = 0\n",
    "\n",
    "    model.train()\n",
    "    for idx, data in enumerate(train_loader):\n",
    "      # get the input; data is a list of [inputs, labels]\n",
    "      inputs, labels = data\n",
    "      inputs, labels = inputs.to(device), labels.to(device)\n",
    "\n",
    "      # zero the parameter gradients\n",
    "      optimizer.zero_grad()\n",
    "\n",
    "      # forward + backward + optimize\n",
    "      outputs = model(inputs)\n",
    "      loss = criterion(outputs, labels)\n",
    "\n",
    "      loss.backward()\n",
    "      optimizer.step()\n",
    "\n",
    "      # print statistics\n",
    "      _, preds = torch.max(outputs, 1)\n",
    "      running_loss += loss.item()\n",
    "      running_corrects += torch.sum(preds == labels.data)\n",
    "      if idx % 2000 == 1999:\n",
    "        print('[Epoch: %d, %5d] loss: %.3f'%(epoch + 1, idx, running_loss / 2000))\n",
    "        running_loss = 0.0\n",
    "        running_corrects = 0.0\n",
    "    \n",
    "    # -------- Validation --------\n",
    "    model.eval()\n",
    "    with torch.no_grad():\n",
    "      for idx, data in enumerate((val_loader)):\n",
    "        inputs, labels = data\n",
    "        inputs, labels = inputs.to(device), labels.to(device)\n",
    "        predict = model(inputs)\n",
    "        loss = criterion(predict, labels)\n",
    "\n",
    "        _, vals = torch.max(predict, 1)\n",
    "        val_loss += loss.item()\n",
    "        val_corrects += (vals == labels).sum().item()\n",
    "        total += labels.size(0)\n",
    "    print('Validation [Epoch: %d, %5d] loss: %.3f'%(epoch + 1, idx, val_loss / total))\n",
    "    print('Validation Acc: %.3f %%'%(val_corrects / total * 100))\n",
    "\n",
    "    # -------- Schedule Learning Rate --------\n",
    "    scheduler.step()\n",
    "    print(\"Learning Rate: \", scheduler.get_last_lr()[0])\n",
    "\n",
    "print('Finish Training')\n",
    "\n",
    "# Saving model\n",
    "model_path = './CNN_cifar_224.ckpt'\n",
    "torch.save(model.state_dict(),model_path)"
   ]
  },
  {
   "cell_type": "code",
   "execution_count": 9,
   "metadata": {},
   "outputs": [
    {
     "name": "stdout",
     "output_type": "stream",
     "text": [
      "Accuracy for class plane is: 70.9 %\n",
      "Accuracy for class car   is: 67.1 %\n",
      "Accuracy for class bird  is: 44.9 %\n",
      "Accuracy for class cat   is: 45.9 %\n",
      "Accuracy for class deer  is: 66.5 %\n",
      "Accuracy for class dog   is: 48.4 %\n",
      "Accuracy for class frog  is: 66.9 %\n",
      "Accuracy for class horse is: 64.6 %\n",
      "Accuracy for class ship  is: 70.4 %\n",
      "Accuracy for class truck is: 69.8 %\n"
     ]
    }
   ],
   "source": [
    "# prepare to count predictions for each class\n",
    "correct_pred = {classname: 0 for classname in classes}\n",
    "total_pred = {classname: 0 for classname in classes}\n",
    "\n",
    "# for confusion matrix\n",
    "y_pred = []\n",
    "y_true = []\n",
    "\n",
    "# again no gradients needed\n",
    "with torch.no_grad():\n",
    "    for data in test_loader:\n",
    "        images, labels = data\n",
    "        images, labels = images.to(device), labels.to(device)\n",
    "        outputs = model(images)\n",
    "        _, predictions = torch.max(outputs, 1)\n",
    "        # collect the correct predictions for each class\n",
    "        for label, prediction in zip(labels, predictions):\n",
    "            y_pred.append(prediction.cpu().numpy())\n",
    "            y_true.append(label.cpu().numpy())\n",
    "            if label == prediction:\n",
    "                correct_pred[classes[label]] += 1\n",
    "            total_pred[classes[label]] += 1\n",
    "\n",
    "# print accuracy for each class\n",
    "for classname, correct_count in correct_pred.items():\n",
    "    accuracy = 100 * float(correct_count) / total_pred[classname]\n",
    "    print(\"Accuracy for class {:5s} is: {:.1f} %\".format(classname, accuracy))"
   ]
  },
  {
   "cell_type": "markdown",
   "metadata": {},
   "source": [
    "# Reference  https://stackoverflow.com/questions/58589349/pytorch-confusion-matrix-plot"
   ]
  },
  {
   "cell_type": "code",
   "execution_count": 10,
   "metadata": {},
   "outputs": [],
   "source": [
    "import itertools\n",
    "def plot_confusion_matrix(cm, classes,\n",
    "                          normalize=False,\n",
    "                          title='Confusion matrix',\n",
    "                          cmap=plt.cm.Blues):\n",
    "    \"\"\"\n",
    "    This function prints and plots the confusion matrix.\n",
    "    Normalization can be applied by setting `normalize=True`.\n",
    "    \"\"\"\n",
    "    if normalize:\n",
    "        cm = cm.astype('float') / cm.sum(axis=1)[:, np.newaxis]\n",
    "        print(\"Normalized confusion matrix\")\n",
    "    else:\n",
    "        print('Confusion matrix, without normalization')\n",
    "\n",
    "    print(cm)\n",
    "\n",
    "    plt.imshow(cm, interpolation='nearest', cmap=cmap)\n",
    "    plt.title(title)\n",
    "    plt.colorbar()\n",
    "    tick_marks = np.arange(len(classes))\n",
    "    plt.ylim(-0.5, len(classes) - 0.5)\n",
    "    plt.xticks(tick_marks, classes, rotation=45)\n",
    "    plt.yticks(tick_marks, classes)\n",
    "\n",
    "    fmt = '.2f' if normalize else 'd'\n",
    "    thresh = cm.max() / 2.\n",
    "    for i, j in itertools.product(range(cm.shape[0]), range(cm.shape[1])):\n",
    "        plt.text(j, i, format(cm[i, j], fmt),\n",
    "                 horizontalalignment=\"center\",\n",
    "                 color=\"white\" if cm[i, j] > thresh else \"black\")\n",
    "\n",
    "    plt.tight_layout()\n",
    "    plt.ylabel('True label')\n",
    "    plt.xlabel('Predicted label')"
   ]
  },
  {
   "cell_type": "code",
   "execution_count": 11,
   "metadata": {},
   "outputs": [
    {
     "name": "stdout",
     "output_type": "stream",
     "text": [
      "Normalized confusion matrix\n",
      "[[0.709 0.015 0.067 0.029 0.024 0.007 0.011 0.013 0.09  0.035]\n",
      " [0.052 0.671 0.022 0.018 0.01  0.011 0.015 0.014 0.066 0.121]\n",
      " [0.065 0.004 0.449 0.09  0.194 0.063 0.069 0.036 0.025 0.005]\n",
      " [0.023 0.008 0.076 0.459 0.109 0.175 0.06  0.052 0.021 0.017]\n",
      " [0.03  0.003 0.084 0.063 0.665 0.019 0.049 0.078 0.007 0.002]\n",
      " [0.019 0.009 0.063 0.225 0.083 0.484 0.026 0.071 0.012 0.008]\n",
      " [0.012 0.007 0.041 0.107 0.105 0.033 0.669 0.012 0.011 0.003]\n",
      " [0.02  0.005 0.028 0.064 0.121 0.077 0.012 0.646 0.014 0.013]\n",
      " [0.135 0.033 0.036 0.015 0.013 0.012 0.006 0.005 0.704 0.041]\n",
      " [0.053 0.087 0.015 0.038 0.021 0.011 0.011 0.026 0.04  0.698]]\n",
      "[[709  15  67  29  24   7  11  13  90  35]\n",
      " [ 52 671  22  18  10  11  15  14  66 121]\n",
      " [ 65   4 449  90 194  63  69  36  25   5]\n",
      " [ 23   8  76 459 109 175  60  52  21  17]\n",
      " [ 30   3  84  63 665  19  49  78   7   2]\n",
      " [ 19   9  63 225  83 484  26  71  12   8]\n",
      " [ 12   7  41 107 105  33 669  12  11   3]\n",
      " [ 20   5  28  64 121  77  12 646  14  13]\n",
      " [135  33  36  15  13  12   6   5 704  41]\n",
      " [ 53  87  15  38  21  11  11  26  40 698]]\n"
     ]
    },
    {
     "data": {
      "image/png": "[encoded data removed]",
      "text/plain": [
       "<Figure size 720x720 with 2 Axes>"
      ]
     },
     "metadata": {
      "needs_background": "light"
     },
     "output_type": "display_data"
    }
   ],
   "source": [
    "# Build confusion matrix\n",
    "cf_matrix = confusion_matrix(y_true, y_pred)\n",
    "plt.figure(figsize=(10, 10))\n",
    "plot_confusion_matrix(cf_matrix, classes, normalize=True)\n",
    "print(cf_matrix)"
   ]
  },
  {
   "cell_type": "markdown",
   "metadata": {},
   "source": [
    "# Pre-trained Model"
   ]
  },
  {
   "cell_type": "code",
   "execution_count": 20,
   "metadata": {},
   "outputs": [
    {
     "name": "stdout",
     "output_type": "stream",
     "text": [
      "Loaded pretrained weights for efficientnet-b0\n"
     ]
    }
   ],
   "source": [
    "from efficientnet_pytorch import EfficientNet\n",
    "\n",
    "pre_model = EfficientNet.from_pretrained('efficientnet-b0', num_classes=10).to(device)\n",
    "# pre_model.load_state_dict(torch.load('./CNN_cifar_224.ckpt'))\n",
    "\n",
    "criterion = nn.CrossEntropyLoss().to(device)\n",
    "optimizer = torch.optim.AdamW(params=pre_model.parameters() ,lr=3e-4)"
   ]
  },
  {
   "cell_type": "code",
   "execution_count": 21,
   "metadata": {},
   "outputs": [
    {
     "name": "stderr",
     "output_type": "stream",
     "text": [
      " 10%|█         | 1003/10000 [01:05<09:18, 16.12it/s]"
     ]
    },
    {
     "name": "stdout",
     "output_type": "stream",
     "text": [
      "[Epoch: 1,   999] loss: 1.290\n"
     ]
    },
    {
     "name": "stderr",
     "output_type": "stream",
     "text": [
      " 20%|██        | 2001/10000 [02:13<09:52, 13.51it/s]"
     ]
    },
    {
     "name": "stdout",
     "output_type": "stream",
     "text": [
      "[Epoch: 1,  1999] loss: 0.978\n"
     ]
    },
    {
     "name": "stderr",
     "output_type": "stream",
     "text": [
      " 30%|███       | 3001/10000 [03:29<08:28, 13.76it/s]"
     ]
    },
    {
     "name": "stdout",
     "output_type": "stream",
     "text": [
      "[Epoch: 1,  2999] loss: 0.866\n"
     ]
    },
    {
     "name": "stderr",
     "output_type": "stream",
     "text": [
      " 40%|████      | 4001/10000 [04:42<07:20, 13.61it/s]"
     ]
    },
    {
     "name": "stdout",
     "output_type": "stream",
     "text": [
      "[Epoch: 1,  3999] loss: 0.795\n"
     ]
    },
    {
     "name": "stderr",
     "output_type": "stream",
     "text": [
      " 50%|█████     | 5001/10000 [05:56<06:06, 13.63it/s]"
     ]
    },
    {
     "name": "stdout",
     "output_type": "stream",
     "text": [
      "[Epoch: 1,  4999] loss: 0.720\n"
     ]
    },
    {
     "name": "stderr",
     "output_type": "stream",
     "text": [
      " 60%|██████    | 6001/10000 [07:08<04:42, 14.15it/s]"
     ]
    },
    {
     "name": "stdout",
     "output_type": "stream",
     "text": [
      "[Epoch: 1,  5999] loss: 0.699\n"
     ]
    },
    {
     "name": "stderr",
     "output_type": "stream",
     "text": [
      " 70%|███████   | 7001/10000 [08:19<03:35, 13.91it/s]"
     ]
    },
    {
     "name": "stdout",
     "output_type": "stream",
     "text": [
      "[Epoch: 1,  6999] loss: 0.667\n"
     ]
    },
    {
     "name": "stderr",
     "output_type": "stream",
     "text": [
      " 80%|████████  | 8000/10000 [17:26<27:41,  1.20it/s]"
     ]
    },
    {
     "name": "stdout",
     "output_type": "stream",
     "text": [
      "[Epoch: 1,  7999] loss: 0.634\n"
     ]
    },
    {
     "name": "stderr",
     "output_type": "stream",
     "text": [
      " 90%|█████████ | 9000/10000 [29:55<11:31,  1.45it/s]"
     ]
    },
    {
     "name": "stdout",
     "output_type": "stream",
     "text": [
      "[Epoch: 1,  8999] loss: 0.603\n"
     ]
    },
    {
     "name": "stderr",
     "output_type": "stream",
     "text": [
      "100%|█████████▉| 9999/10000 [38:35<00:00, 13.79it/s]"
     ]
    },
    {
     "name": "stdout",
     "output_type": "stream",
     "text": [
      "[Epoch: 1,  9999] loss: 0.624\n"
     ]
    },
    {
     "name": "stderr",
     "output_type": "stream",
     "text": [
      "100%|██████████| 10000/10000 [38:36<00:00,  4.32it/s]\n"
     ]
    },
    {
     "name": "stdout",
     "output_type": "stream",
     "text": [
      "Validation [Epoch: 1,  2499] loss: 0.109\n",
      "Validation Acc: 85.830 %\n"
     ]
    },
    {
     "name": "stderr",
     "output_type": "stream",
     "text": [
      " 10%|█         | 1000/10000 [11:36<2:15:56,  1.10it/s]"
     ]
    },
    {
     "name": "stdout",
     "output_type": "stream",
     "text": [
      "[Epoch: 2,   999] loss: 0.512\n"
     ]
    },
    {
     "name": "stderr",
     "output_type": "stream",
     "text": [
      " 20%|██        | 2002/10000 [21:08<10:56, 12.18it/s]"
     ]
    },
    {
     "name": "stdout",
     "output_type": "stream",
     "text": [
      "[Epoch: 2,  1999] loss: 0.517\n"
     ]
    },
    {
     "name": "stderr",
     "output_type": "stream",
     "text": [
      " 30%|███       | 3002/10000 [22:19<08:18, 14.05it/s]"
     ]
    },
    {
     "name": "stdout",
     "output_type": "stream",
     "text": [
      "[Epoch: 2,  2999] loss: 0.506\n"
     ]
    },
    {
     "name": "stderr",
     "output_type": "stream",
     "text": [
      " 40%|████      | 4000/10000 [30:44<59:34,  1.68it/s]  "
     ]
    },
    {
     "name": "stdout",
     "output_type": "stream",
     "text": [
      "[Epoch: 2,  3999] loss: 0.503\n"
     ]
    },
    {
     "name": "stderr",
     "output_type": "stream",
     "text": [
      " 50%|█████     | 5001/10000 [39:04<05:27, 15.28it/s]"
     ]
    },
    {
     "name": "stdout",
     "output_type": "stream",
     "text": [
      "[Epoch: 2,  4999] loss: 0.514\n"
     ]
    },
    {
     "name": "stderr",
     "output_type": "stream",
     "text": [
      " 60%|██████    | 6001/10000 [40:10<04:22, 15.24it/s]"
     ]
    },
    {
     "name": "stdout",
     "output_type": "stream",
     "text": [
      "[Epoch: 2,  5999] loss: 0.476\n"
     ]
    },
    {
     "name": "stderr",
     "output_type": "stream",
     "text": [
      " 70%|███████   | 7003/10000 [41:13<03:07, 16.01it/s]"
     ]
    },
    {
     "name": "stdout",
     "output_type": "stream",
     "text": [
      "[Epoch: 2,  6999] loss: 0.498\n"
     ]
    },
    {
     "name": "stderr",
     "output_type": "stream",
     "text": [
      " 80%|████████  | 8001/10000 [42:16<02:13, 14.96it/s]"
     ]
    },
    {
     "name": "stdout",
     "output_type": "stream",
     "text": [
      "[Epoch: 2,  7999] loss: 0.482\n"
     ]
    },
    {
     "name": "stderr",
     "output_type": "stream",
     "text": [
      " 90%|█████████ | 9001/10000 [43:20<01:02, 16.11it/s]"
     ]
    },
    {
     "name": "stdout",
     "output_type": "stream",
     "text": [
      "[Epoch: 2,  8999] loss: 0.457\n"
     ]
    },
    {
     "name": "stderr",
     "output_type": "stream",
     "text": [
      "100%|█████████▉| 9999/10000 [44:24<00:00, 15.85it/s]"
     ]
    },
    {
     "name": "stdout",
     "output_type": "stream",
     "text": [
      "[Epoch: 2,  9999] loss: 0.451\n"
     ]
    },
    {
     "name": "stderr",
     "output_type": "stream",
     "text": [
      "100%|██████████| 10000/10000 [44:24<00:00,  3.75it/s]\n"
     ]
    },
    {
     "name": "stdout",
     "output_type": "stream",
     "text": [
      "Validation [Epoch: 2,  2499] loss: 0.090\n",
      "Validation Acc: 89.100 %\n"
     ]
    },
    {
     "name": "stderr",
     "output_type": "stream",
     "text": [
      " 10%|█         | 1001/10000 [01:06<09:18, 16.11it/s]"
     ]
    },
    {
     "name": "stdout",
     "output_type": "stream",
     "text": [
      "[Epoch: 3,   999] loss: 0.410\n"
     ]
    },
    {
     "name": "stderr",
     "output_type": "stream",
     "text": [
      " 20%|██        | 2001/10000 [02:10<08:50, 15.08it/s]"
     ]
    },
    {
     "name": "stdout",
     "output_type": "stream",
     "text": [
      "[Epoch: 3,  1999] loss: 0.419\n"
     ]
    },
    {
     "name": "stderr",
     "output_type": "stream",
     "text": [
      " 30%|███       | 3001/10000 [03:18<08:21, 13.95it/s]"
     ]
    },
    {
     "name": "stdout",
     "output_type": "stream",
     "text": [
      "[Epoch: 3,  2999] loss: 0.434\n"
     ]
    },
    {
     "name": "stderr",
     "output_type": "stream",
     "text": [
      " 40%|████      | 4001/10000 [04:26<06:24, 15.62it/s]"
     ]
    },
    {
     "name": "stdout",
     "output_type": "stream",
     "text": [
      "[Epoch: 3,  3999] loss: 0.432\n"
     ]
    },
    {
     "name": "stderr",
     "output_type": "stream",
     "text": [
      " 50%|█████     | 5001/10000 [05:29<05:15, 15.83it/s]"
     ]
    },
    {
     "name": "stdout",
     "output_type": "stream",
     "text": [
      "[Epoch: 3,  4999] loss: 0.421\n"
     ]
    },
    {
     "name": "stderr",
     "output_type": "stream",
     "text": [
      " 60%|██████    | 6001/10000 [06:48<04:09, 16.02it/s]"
     ]
    },
    {
     "name": "stdout",
     "output_type": "stream",
     "text": [
      "[Epoch: 3,  5999] loss: 0.428\n"
     ]
    },
    {
     "name": "stderr",
     "output_type": "stream",
     "text": [
      " 70%|███████   | 7001/10000 [07:51<03:10, 15.72it/s]"
     ]
    },
    {
     "name": "stdout",
     "output_type": "stream",
     "text": [
      "[Epoch: 3,  6999] loss: 0.404\n"
     ]
    },
    {
     "name": "stderr",
     "output_type": "stream",
     "text": [
      " 80%|████████  | 8001/10000 [08:54<02:05, 15.96it/s]"
     ]
    },
    {
     "name": "stdout",
     "output_type": "stream",
     "text": [
      "[Epoch: 3,  7999] loss: 0.398\n"
     ]
    },
    {
     "name": "stderr",
     "output_type": "stream",
     "text": [
      " 80%|████████  | 8013/10000 [08:55<02:12, 14.96it/s]\n"
     ]
    },
    {
     "ename": "KeyboardInterrupt",
     "evalue": "",
     "output_type": "error",
     "traceback": [
      "\u001b[1;31m---------------------------------------------------------------------------\u001b[0m",
      "\u001b[1;31mKeyboardInterrupt\u001b[0m                         Traceback (most recent call last)",
      "\u001b[1;32m<ipython-input-21-4e20e65194c1>\u001b[0m in \u001b[0;36m<module>\u001b[1;34m\u001b[0m\n\u001b[0;32m     21\u001b[0m \u001b[1;33m\u001b[0m\u001b[0m\n\u001b[0;32m     22\u001b[0m       \u001b[0mloss\u001b[0m\u001b[1;33m.\u001b[0m\u001b[0mbackward\u001b[0m\u001b[1;33m(\u001b[0m\u001b[1;33m)\u001b[0m\u001b[1;33m\u001b[0m\u001b[1;33m\u001b[0m\u001b[0m\n\u001b[1;32m---> 23\u001b[1;33m       \u001b[0moptimizer\u001b[0m\u001b[1;33m.\u001b[0m\u001b[0mstep\u001b[0m\u001b[1;33m(\u001b[0m\u001b[1;33m)\u001b[0m\u001b[1;33m\u001b[0m\u001b[1;33m\u001b[0m\u001b[0m\n\u001b[0m\u001b[0;32m     24\u001b[0m \u001b[1;33m\u001b[0m\u001b[0m\n\u001b[0;32m     25\u001b[0m       \u001b[1;31m# print statistics\u001b[0m\u001b[1;33m\u001b[0m\u001b[1;33m\u001b[0m\u001b[1;33m\u001b[0m\u001b[0m\n",
      "\u001b[1;32m~\\AppData\\Local\\Programs\\Python\\Python37\\lib\\site-packages\\torch\\optim\\optimizer.py\u001b[0m in \u001b[0;36mwrapper\u001b[1;34m(*args, **kwargs)\u001b[0m\n\u001b[0;32m     87\u001b[0m                 \u001b[0mprofile_name\u001b[0m \u001b[1;33m=\u001b[0m \u001b[1;34m\"Optimizer.step#{}.step\"\u001b[0m\u001b[1;33m.\u001b[0m\u001b[0mformat\u001b[0m\u001b[1;33m(\u001b[0m\u001b[0mobj\u001b[0m\u001b[1;33m.\u001b[0m\u001b[0m__class__\u001b[0m\u001b[1;33m.\u001b[0m\u001b[0m__name__\u001b[0m\u001b[1;33m)\u001b[0m\u001b[1;33m\u001b[0m\u001b[1;33m\u001b[0m\u001b[0m\n\u001b[0;32m     88\u001b[0m                 \u001b[1;32mwith\u001b[0m \u001b[0mtorch\u001b[0m\u001b[1;33m.\u001b[0m\u001b[0mautograd\u001b[0m\u001b[1;33m.\u001b[0m\u001b[0mprofiler\u001b[0m\u001b[1;33m.\u001b[0m\u001b[0mrecord_function\u001b[0m\u001b[1;33m(\u001b[0m\u001b[0mprofile_name\u001b[0m\u001b[1;33m)\u001b[0m\u001b[1;33m:\u001b[0m\u001b[1;33m\u001b[0m\u001b[1;33m\u001b[0m\u001b[0m\n\u001b[1;32m---> 89\u001b[1;33m                     \u001b[1;32mreturn\u001b[0m \u001b[0mfunc\u001b[0m\u001b[1;33m(\u001b[0m\u001b[1;33m*\u001b[0m\u001b[0margs\u001b[0m\u001b[1;33m,\u001b[0m \u001b[1;33m**\u001b[0m\u001b[0mkwargs\u001b[0m\u001b[1;33m)\u001b[0m\u001b[1;33m\u001b[0m\u001b[1;33m\u001b[0m\u001b[0m\n\u001b[0m\u001b[0;32m     90\u001b[0m             \u001b[1;32mreturn\u001b[0m \u001b[0mwrapper\u001b[0m\u001b[1;33m\u001b[0m\u001b[1;33m\u001b[0m\u001b[0m\n\u001b[0;32m     91\u001b[0m \u001b[1;33m\u001b[0m\u001b[0m\n",
      "\u001b[1;32m~\\AppData\\Local\\Programs\\Python\\Python37\\lib\\site-packages\\torch\\autograd\\grad_mode.py\u001b[0m in \u001b[0;36mdecorate_context\u001b[1;34m(*args, **kwargs)\u001b[0m\n\u001b[0;32m     25\u001b[0m         \u001b[1;32mdef\u001b[0m \u001b[0mdecorate_context\u001b[0m\u001b[1;33m(\u001b[0m\u001b[1;33m*\u001b[0m\u001b[0margs\u001b[0m\u001b[1;33m,\u001b[0m \u001b[1;33m**\u001b[0m\u001b[0mkwargs\u001b[0m\u001b[1;33m)\u001b[0m\u001b[1;33m:\u001b[0m\u001b[1;33m\u001b[0m\u001b[1;33m\u001b[0m\u001b[0m\n\u001b[0;32m     26\u001b[0m             \u001b[1;32mwith\u001b[0m \u001b[0mself\u001b[0m\u001b[1;33m.\u001b[0m\u001b[0m__class__\u001b[0m\u001b[1;33m(\u001b[0m\u001b[1;33m)\u001b[0m\u001b[1;33m:\u001b[0m\u001b[1;33m\u001b[0m\u001b[1;33m\u001b[0m\u001b[0m\n\u001b[1;32m---> 27\u001b[1;33m                 \u001b[1;32mreturn\u001b[0m \u001b[0mfunc\u001b[0m\u001b[1;33m(\u001b[0m\u001b[1;33m*\u001b[0m\u001b[0margs\u001b[0m\u001b[1;33m,\u001b[0m \u001b[1;33m**\u001b[0m\u001b[0mkwargs\u001b[0m\u001b[1;33m)\u001b[0m\u001b[1;33m\u001b[0m\u001b[1;33m\u001b[0m\u001b[0m\n\u001b[0m\u001b[0;32m     28\u001b[0m         \u001b[1;32mreturn\u001b[0m \u001b[0mcast\u001b[0m\u001b[1;33m(\u001b[0m\u001b[0mF\u001b[0m\u001b[1;33m,\u001b[0m \u001b[0mdecorate_context\u001b[0m\u001b[1;33m)\u001b[0m\u001b[1;33m\u001b[0m\u001b[1;33m\u001b[0m\u001b[0m\n\u001b[0;32m     29\u001b[0m \u001b[1;33m\u001b[0m\u001b[0m\n",
      "\u001b[1;32m~\\AppData\\Local\\Programs\\Python\\Python37\\lib\\site-packages\\torch\\optim\\adamw.py\u001b[0m in \u001b[0;36mstep\u001b[1;34m(self, closure)\u001b[0m\n\u001b[0;32m    119\u001b[0m                     \u001b[0mgroup\u001b[0m\u001b[1;33m[\u001b[0m\u001b[1;34m'lr'\u001b[0m\u001b[1;33m]\u001b[0m\u001b[1;33m,\u001b[0m\u001b[1;33m\u001b[0m\u001b[1;33m\u001b[0m\u001b[0m\n\u001b[0;32m    120\u001b[0m                     \u001b[0mgroup\u001b[0m\u001b[1;33m[\u001b[0m\u001b[1;34m'weight_decay'\u001b[0m\u001b[1;33m]\u001b[0m\u001b[1;33m,\u001b[0m\u001b[1;33m\u001b[0m\u001b[1;33m\u001b[0m\u001b[0m\n\u001b[1;32m--> 121\u001b[1;33m                     group['eps'])\n\u001b[0m\u001b[0;32m    122\u001b[0m \u001b[1;33m\u001b[0m\u001b[0m\n\u001b[0;32m    123\u001b[0m         \u001b[1;32mreturn\u001b[0m \u001b[0mloss\u001b[0m\u001b[1;33m\u001b[0m\u001b[1;33m\u001b[0m\u001b[0m\n",
      "\u001b[1;32m~\\AppData\\Local\\Programs\\Python\\Python37\\lib\\site-packages\\torch\\optim\\_functional.py\u001b[0m in \u001b[0;36madamw\u001b[1;34m(params, grads, exp_avgs, exp_avg_sqs, max_exp_avg_sqs, state_steps, amsgrad, beta1, beta2, lr, weight_decay, eps)\u001b[0m\n\u001b[0;32m    126\u001b[0m \u001b[1;33m\u001b[0m\u001b[0m\n\u001b[0;32m    127\u001b[0m         \u001b[1;31m# Decay the first and second moment running average coefficient\u001b[0m\u001b[1;33m\u001b[0m\u001b[1;33m\u001b[0m\u001b[1;33m\u001b[0m\u001b[0m\n\u001b[1;32m--> 128\u001b[1;33m         \u001b[0mexp_avg\u001b[0m\u001b[1;33m.\u001b[0m\u001b[0mmul_\u001b[0m\u001b[1;33m(\u001b[0m\u001b[0mbeta1\u001b[0m\u001b[1;33m)\u001b[0m\u001b[1;33m.\u001b[0m\u001b[0madd_\u001b[0m\u001b[1;33m(\u001b[0m\u001b[0mgrad\u001b[0m\u001b[1;33m,\u001b[0m \u001b[0malpha\u001b[0m\u001b[1;33m=\u001b[0m\u001b[1;36m1\u001b[0m \u001b[1;33m-\u001b[0m \u001b[0mbeta1\u001b[0m\u001b[1;33m)\u001b[0m\u001b[1;33m\u001b[0m\u001b[1;33m\u001b[0m\u001b[0m\n\u001b[0m\u001b[0;32m    129\u001b[0m         \u001b[0mexp_avg_sq\u001b[0m\u001b[1;33m.\u001b[0m\u001b[0mmul_\u001b[0m\u001b[1;33m(\u001b[0m\u001b[0mbeta2\u001b[0m\u001b[1;33m)\u001b[0m\u001b[1;33m.\u001b[0m\u001b[0maddcmul_\u001b[0m\u001b[1;33m(\u001b[0m\u001b[0mgrad\u001b[0m\u001b[1;33m,\u001b[0m \u001b[0mgrad\u001b[0m\u001b[1;33m,\u001b[0m \u001b[0mvalue\u001b[0m\u001b[1;33m=\u001b[0m\u001b[1;36m1\u001b[0m \u001b[1;33m-\u001b[0m \u001b[0mbeta2\u001b[0m\u001b[1;33m)\u001b[0m\u001b[1;33m\u001b[0m\u001b[1;33m\u001b[0m\u001b[0m\n\u001b[0;32m    130\u001b[0m         \u001b[1;32mif\u001b[0m \u001b[0mamsgrad\u001b[0m\u001b[1;33m:\u001b[0m\u001b[1;33m\u001b[0m\u001b[1;33m\u001b[0m\u001b[0m\n",
      "\u001b[1;31mKeyboardInterrupt\u001b[0m: "
     ]
    }
   ],
   "source": [
    "from tqdm import tqdm\n",
    "for epoch in range(Epoch):\n",
    "    running_loss = 0.0\n",
    "\n",
    "    val_loss = 0.0\n",
    "    val_corrects = 0.0\n",
    "    total = 0\n",
    "\n",
    "    pre_model.train()\n",
    "    for idx, data in enumerate(tqdm(train_loader)):\n",
    "      # get the input; data is a list of [inputs, labels]\n",
    "      inputs, labels = data\n",
    "      inputs, labels = inputs.to(device), labels.to(device)\n",
    "\n",
    "      # zero the parameter gradients\n",
    "      optimizer.zero_grad()\n",
    "\n",
    "      # forward + backward + optimize\n",
    "      outputs = pre_model(inputs)\n",
    "      loss = criterion(outputs, labels)\n",
    "\n",
    "      loss.backward()\n",
    "      optimizer.step()\n",
    "\n",
    "      # print statistics\n",
    "      _, preds = torch.max(outputs, 1)\n",
    "      running_loss += loss.item()\n",
    "      running_corrects += torch.sum(preds == labels.data)\n",
    "      if idx % 1000 == 999:\n",
    "        print('[Epoch: %d, %5d] loss: %.3f'%(epoch + 1, idx, running_loss / 1000))\n",
    "        running_loss = 0.0\n",
    "    \n",
    "    # -------- Validation --------\n",
    "    pre_model.eval()\n",
    "    with torch.no_grad():\n",
    "      for idx, data in enumerate((val_loader)):\n",
    "        inputs, labels = data\n",
    "        inputs, labels = inputs.to(device), labels.to(device)\n",
    "        predict = pre_model(inputs)\n",
    "        loss = criterion(predict, labels)\n",
    "\n",
    "        _, vals = torch.max(predict, 1)\n",
    "        val_loss += loss.item()\n",
    "        val_corrects += (vals == labels).sum().item()\n",
    "        total += labels.size(0)\n",
    "    print('Validation [Epoch: %d, %5d] loss: %.3f'%(epoch + 1, idx, val_loss / total))\n",
    "    print('Validation Acc: %.3f %%'%(val_corrects / total * 100))\n",
    "\n",
    "print('Finish Training')"
   ]
  },
  {
   "cell_type": "code",
   "execution_count": 22,
   "metadata": {},
   "outputs": [],
   "source": [
    "# Saving model\n",
    "model_path = './Efficient_cifar_224.ckpt'\n",
    "torch.save(pre_model.state_dict(),model_path)"
   ]
  },
  {
   "cell_type": "code",
   "execution_count": 23,
   "metadata": {},
   "outputs": [
    {
     "name": "stdout",
     "output_type": "stream",
     "text": [
      "Accuracy for class plane is: 90.4 %\n",
      "Accuracy for class car   is: 90.2 %\n",
      "Accuracy for class bird  is: 83.2 %\n",
      "Accuracy for class cat   is: 81.9 %\n",
      "Accuracy for class deer  is: 87.3 %\n",
      "Accuracy for class dog   is: 62.3 %\n",
      "Accuracy for class frog  is: 88.4 %\n",
      "Accuracy for class horse is: 83.5 %\n",
      "Accuracy for class ship  is: 91.5 %\n",
      "Accuracy for class truck is: 85.5 %\n"
     ]
    }
   ],
   "source": [
    "# prepare to count predictions for each class\n",
    "pre_correct_pred = {classname: 0 for classname in classes}\n",
    "pre_total_pred = {classname: 0 for classname in classes}\n",
    "\n",
    "pre_y_pred = []\n",
    "pre_y_true = []\n",
    "with torch.no_grad():\n",
    "    for data in test_loader:\n",
    "        images, labels = data\n",
    "        images, labels = images.to(device), labels.to(device)\n",
    "        \n",
    "        outputs = pre_model(images)\n",
    "        _, predictions = torch.max(outputs, 1)\n",
    "        loss = criterion(outputs, labels)\n",
    "\n",
    "        # collect the correct predictions for each class\n",
    "        for label, prediction in zip(labels, predictions):\n",
    "            pre_y_pred.append(prediction.cpu().numpy())\n",
    "            pre_y_true.append(label.cpu().numpy())\n",
    "            if label == prediction:\n",
    "                pre_correct_pred[classes[label]] += 1\n",
    "            pre_total_pred[classes[label]] += 1\n",
    "\n",
    "# print accuracy for each class\n",
    "for classname, correct_count in pre_correct_pred.items():\n",
    "    accuracy = 100 * float(correct_count) / pre_total_pred[classname]\n",
    "    print(\"Accuracy for class {:5s} is: {:.1f} %\".format(classname, accuracy))"
   ]
  },
  {
   "cell_type": "code",
   "execution_count": 24,
   "metadata": {},
   "outputs": [
    {
     "name": "stdout",
     "output_type": "stream",
     "text": [
      "Confusion matrix, without normalization\n",
      "[[904   6  20  12  10   1   2   2  39   4]\n",
      " [ 11 902   4   5   0   1   2   0  45  30]\n",
      " [ 35   2 832  48  49  10  17   2   4   1]\n",
      " [  7   5  30 819  32  30  49   7  16   5]\n",
      " [  9   0  22  38 873   8  26  18   6   0]\n",
      " [  4   0  37 275  27 623  10  22   0   2]\n",
      " [  7   3  19  53  19   8 884   0   5   2]\n",
      " [ 13   1  15  49  68   8   7 835   0   4]\n",
      " [ 60   5   6   4   1   1   0   0 915   8]\n",
      " [ 20  64   3  11   0   0   2   1  44 855]]\n"
     ]
    },
    {
     "data": {
      "image/png": "[encoded data removed]",
      "text/plain": [
       "<Figure size 432x288 with 2 Axes>"
      ]
     },
     "metadata": {
      "needs_background": "light"
     },
     "output_type": "display_data"
    }
   ],
   "source": [
    "# Build confusion matrix\n",
    "cf_matrix = confusion_matrix(pre_y_true, pre_y_pred)\n",
    "plot_confusion_matrix(cf_matrix, classes)"
   ]
  },
  {
   "cell_type": "code",
   "execution_count": null,
   "metadata": {},
   "outputs": [],
   "source": []
  }
 ],
 "metadata": {
  "interpreter": {
   "hash": "74ea91778db1d856ff87590d1dff4d6dab0747003a22ee1eca989cea41e9e8d4"
  },
  "kernelspec": {
   "display_name": "Python 3.7.9 64-bit",
   "name": "python3"
  },
  "language_info": {
   "codemirror_mode": {
    "name": "ipython",
    "version": 3
   },
   "file_extension": ".py",
   "mimetype": "text/x-python",
   "name": "python",
   "nbconvert_exporter": "python",
   "pygments_lexer": "ipython3",
   "version": "3.7.9"
  },
  "orig_nbformat": 4
 },
 "nbformat": 4,
 "nbformat_minor": 2
}
