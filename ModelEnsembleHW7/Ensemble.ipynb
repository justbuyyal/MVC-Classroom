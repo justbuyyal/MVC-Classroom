{
 "cells": [
  {
   "cell_type": "code",
   "execution_count": 1,
   "metadata": {},
   "outputs": [],
   "source": [
    "import torch\n",
    "import torch.nn as nn\n",
    "import torch.optim as optim\n",
    "import torchvision\n",
    "import torchvision.models as models\n",
    "import torchvision.transforms as transforms\n",
    "from torch.utils.data import DataLoader\n",
    "from torchsummary import summary"
   ]
  },
  {
   "cell_type": "code",
   "execution_count": 2,
   "metadata": {},
   "outputs": [],
   "source": [
    "transform = {\n",
    "'train': transforms.Compose(\n",
    "    [transforms.Resize(256),\n",
    "     transforms.CenterCrop(224),\n",
    "     transforms.ToTensor(),\n",
    "     transforms.Normalize((0.485, 0.456, 0.406), (0.229, 0.224, 0.225))]),\n",
    "'test' : transforms.Compose(\n",
    "    [transforms.Resize(224),\n",
    "     transforms.ToTensor(),\n",
    "     transforms.Normalize((0.485, 0.456, 0.406), (0.229, 0.224, 0.225))])\n",
    "}\n",
    "\n",
    "batch_size = 8"
   ]
  },
  {
   "cell_type": "code",
   "execution_count": 3,
   "metadata": {},
   "outputs": [
    {
     "name": "stdout",
     "output_type": "stream",
     "text": [
      "Files already downloaded and verified\n",
      "Files already downloaded and verified\n"
     ]
    }
   ],
   "source": [
    "trainset = torchvision.datasets.CIFAR10(root='./data', train=True, download=True, transform=transform['train'])\n",
    "train_loader = DataLoader(trainset, batch_size=batch_size, shuffle=True, num_workers=2)\n",
    "\n",
    "testset = torchvision.datasets.CIFAR10(root='./data', train=False, download=True, transform=transform['test'])\n",
    "test_loader = DataLoader(testset, batch_size=batch_size, shuffle=False, num_workers=2)"
   ]
  },
  {
   "cell_type": "code",
   "execution_count": 4,
   "metadata": {},
   "outputs": [],
   "source": [
    "class ModelA(nn.Module):\n",
    "    def __init__(self, in_feature):\n",
    "        super().__init__()\n",
    "        self.FC = nn.Sequential(\n",
    "            nn.Linear(in_feature, 512),\n",
    "            nn.ReLU(),\n",
    "            # nn.BatchNorm2d(512),\n",
    "            nn.Dropout(0.3),\n",
    "            nn.Linear(512, 256),\n",
    "            nn.ReLU(),\n",
    "            # nn.BatchNorm2d(256),\n",
    "            nn.Dropout(0.3),\n",
    "            nn.Linear(256, 128),\n",
    "            nn.ReLU(),\n",
    "            # nn.BatchNorm2d(128),\n",
    "            nn.Dropout(0.3),\n",
    "            nn.Linear(128, 10)\n",
    "        )\n",
    "    def forward(self, x):\n",
    "        x = self.FC(x)\n",
    "        return x"
   ]
  },
  {
   "cell_type": "code",
   "execution_count": 5,
   "metadata": {},
   "outputs": [],
   "source": [
    "device = torch.device('cuda:0' if torch.cuda.is_available() else 'cpu')\n",
    "\n",
    "modelA = models.resnet18(pretrained=True)\n",
    "num_feature = modelA.fc.in_features\n",
    "modelA.fc = ModelA(num_feature)\n",
    "# summary(modelA, (3, 224, 224), device='cpu')\n",
    "\n",
    "modelB = models.resnet50(pretrained=True)\n",
    "num_feature = modelB.fc.in_features\n",
    "modelB.fc = ModelA(num_feature)\n",
    "# summary(modelB, (3, 224, 224), device='cpu')"
   ]
  },
  {
   "cell_type": "code",
   "execution_count": 6,
   "metadata": {},
   "outputs": [],
   "source": [
    "from tqdm import tqdm\n",
    "def train(model, criterion, optimizer, Epoch, Data, total):\n",
    "    criterion = criterion.to(device)\n",
    "    optimizer = optimizer\n",
    "    model.to(device)\n",
    "    model.train()\n",
    "    \n",
    "    for epoch in range(Epoch):\n",
    "        running_loss = 0.0\n",
    "        running_corrects = 0.0\n",
    "        T = 0\n",
    "        for idx, data in enumerate(tqdm(Data)):\n",
    "            inputs, labels = data\n",
    "            inputs, labels = inputs.to(device), labels.to(device)\n",
    "            optimizer.zero_grad()\n",
    "\n",
    "            outputs = model(inputs)\n",
    "            loss = criterion(outputs, labels)\n",
    "            loss.backward()\n",
    "            optimizer.step()\n",
    "\n",
    "            _, preds = torch.max(outputs, 1)\n",
    "            running_loss += loss.item()\n",
    "            running_corrects += torch.sum(preds == labels.data)\n",
    "            T += labels.size(0)\n",
    "\n",
    "            if idx % total == (total - 1):\n",
    "                print('Epoch: [%d/%d, %d] loss: %.3f'%((epoch+1), Epoch, idx, (running_loss / T)))\n",
    "                print('Training AC: %.3f %%'%(running_corrects / T * 100))\n",
    "                running_loss = 0.0\n",
    "                running_corrects = 0.0\n",
    "                T = 0"
   ]
  },
  {
   "cell_type": "code",
   "execution_count": 7,
   "metadata": {},
   "outputs": [],
   "source": [
    "criiterion = nn.CrossEntropyLoss()\n",
    "lr = 3e-4\n",
    "Epoch = 10\n",
    "optimizer_A = optim.Adam(modelA.parameters(), lr=lr)\n",
    "optimizer_B = optim.Adam(modelB.parameters(), lr=lr)"
   ]
  },
  {
   "cell_type": "code",
   "execution_count": 8,
   "metadata": {},
   "outputs": [
    {
     "name": "stderr",
     "output_type": "stream",
     "text": [
      " 16%|█▌        | 1005/6250 [00:26<01:59, 44.03it/s]"
     ]
    },
    {
     "name": "stdout",
     "output_type": "stream",
     "text": [
      "8000\n",
      "Epoch: [1/10, 999] loss: 0.203\n",
      "Training AC: 40.500 %\n"
     ]
    },
    {
     "name": "stderr",
     "output_type": "stream",
     "text": [
      " 32%|███▏      | 2005/6250 [00:49<01:35, 44.34it/s]"
     ]
    },
    {
     "name": "stdout",
     "output_type": "stream",
     "text": [
      "8000\n",
      "Epoch: [1/10, 1999] loss: 0.155\n",
      "Training AC: 57.188 %\n"
     ]
    },
    {
     "name": "stderr",
     "output_type": "stream",
     "text": [
      " 48%|████▊     | 3005/6250 [01:11<01:13, 44.40it/s]"
     ]
    },
    {
     "name": "stdout",
     "output_type": "stream",
     "text": [
      "8000\n",
      "Epoch: [1/10, 2999] loss: 0.132\n",
      "Training AC: 65.188 %\n"
     ]
    },
    {
     "name": "stderr",
     "output_type": "stream",
     "text": [
      " 64%|██████▍   | 4005/6250 [01:34<00:50, 44.09it/s]"
     ]
    },
    {
     "name": "stdout",
     "output_type": "stream",
     "text": [
      "8000\n",
      "Epoch: [1/10, 3999] loss: 0.115\n",
      "Training AC: 69.925 %\n"
     ]
    },
    {
     "name": "stderr",
     "output_type": "stream",
     "text": [
      " 80%|████████  | 5005/6250 [01:56<00:27, 44.58it/s]"
     ]
    },
    {
     "name": "stdout",
     "output_type": "stream",
     "text": [
      "8000\n",
      "Epoch: [1/10, 4999] loss: 0.109\n",
      "Training AC: 71.725 %\n"
     ]
    },
    {
     "name": "stderr",
     "output_type": "stream",
     "text": [
      " 96%|█████████▌| 6005/6250 [02:19<00:05, 44.43it/s]"
     ]
    },
    {
     "name": "stdout",
     "output_type": "stream",
     "text": [
      "8000\n",
      "Epoch: [1/10, 5999] loss: 0.103\n",
      "Training AC: 74.213 %\n"
     ]
    },
    {
     "name": "stderr",
     "output_type": "stream",
     "text": [
      "100%|██████████| 6250/6250 [02:24<00:00, 43.14it/s]\n",
      " 16%|█▌        | 1004/6250 [00:24<01:58, 44.33it/s]"
     ]
    },
    {
     "name": "stdout",
     "output_type": "stream",
     "text": [
      "8000\n",
      "Epoch: [2/10, 999] loss: 0.088\n",
      "Training AC: 77.400 %\n"
     ]
    },
    {
     "name": "stderr",
     "output_type": "stream",
     "text": [
      " 32%|███▏      | 2004/6250 [00:47<01:35, 44.38it/s]"
     ]
    },
    {
     "name": "stdout",
     "output_type": "stream",
     "text": [
      "8000\n",
      "Epoch: [2/10, 1999] loss: 0.084\n",
      "Training AC: 79.075 %\n"
     ]
    },
    {
     "name": "stderr",
     "output_type": "stream",
     "text": [
      " 48%|████▊     | 3004/6250 [01:09<01:13, 44.25it/s]"
     ]
    },
    {
     "name": "stdout",
     "output_type": "stream",
     "text": [
      "8000\n",
      "Epoch: [2/10, 2999] loss: 0.082\n",
      "Training AC: 79.338 %\n"
     ]
    },
    {
     "name": "stderr",
     "output_type": "stream",
     "text": [
      " 64%|██████▍   | 4004/6250 [01:32<00:50, 44.06it/s]"
     ]
    },
    {
     "name": "stdout",
     "output_type": "stream",
     "text": [
      "8000\n",
      "Epoch: [2/10, 3999] loss: 0.082\n",
      "Training AC: 79.400 %\n"
     ]
    },
    {
     "name": "stderr",
     "output_type": "stream",
     "text": [
      " 80%|████████  | 5004/6250 [01:55<00:28, 44.11it/s]"
     ]
    },
    {
     "name": "stdout",
     "output_type": "stream",
     "text": [
      "8000\n",
      "Epoch: [2/10, 4999] loss: 0.077\n",
      "Training AC: 79.950 %\n"
     ]
    },
    {
     "name": "stderr",
     "output_type": "stream",
     "text": [
      " 96%|█████████▌| 6004/6250 [02:17<00:05, 44.15it/s]"
     ]
    },
    {
     "name": "stdout",
     "output_type": "stream",
     "text": [
      "8000\n",
      "Epoch: [2/10, 5999] loss: 0.076\n",
      "Training AC: 80.850 %\n"
     ]
    },
    {
     "name": "stderr",
     "output_type": "stream",
     "text": [
      "100%|██████████| 6250/6250 [02:23<00:00, 43.61it/s]\n",
      " 16%|█▌        | 1005/6250 [00:24<01:57, 44.78it/s]"
     ]
    },
    {
     "name": "stdout",
     "output_type": "stream",
     "text": [
      "8000\n",
      "Epoch: [3/10, 999] loss: 0.064\n",
      "Training AC: 83.988 %\n"
     ]
    },
    {
     "name": "stderr",
     "output_type": "stream",
     "text": [
      " 32%|███▏      | 2005/6250 [00:46<01:34, 44.95it/s]"
     ]
    },
    {
     "name": "stdout",
     "output_type": "stream",
     "text": [
      "8000\n",
      "Epoch: [3/10, 1999] loss: 0.065\n",
      "Training AC: 84.038 %\n"
     ]
    },
    {
     "name": "stderr",
     "output_type": "stream",
     "text": [
      " 48%|████▊     | 3005/6250 [01:09<01:12, 44.60it/s]"
     ]
    },
    {
     "name": "stdout",
     "output_type": "stream",
     "text": [
      "8000\n",
      "Epoch: [3/10, 2999] loss: 0.063\n",
      "Training AC: 84.225 %\n"
     ]
    },
    {
     "name": "stderr",
     "output_type": "stream",
     "text": [
      " 64%|██████▍   | 4005/6250 [01:31<00:50, 44.04it/s]"
     ]
    },
    {
     "name": "stdout",
     "output_type": "stream",
     "text": [
      "8000\n",
      "Epoch: [3/10, 3999] loss: 0.060\n",
      "Training AC: 85.550 %\n"
     ]
    },
    {
     "name": "stderr",
     "output_type": "stream",
     "text": [
      " 80%|████████  | 5005/6250 [01:53<00:27, 44.93it/s]"
     ]
    },
    {
     "name": "stdout",
     "output_type": "stream",
     "text": [
      "8000\n",
      "Epoch: [3/10, 4999] loss: 0.060\n",
      "Training AC: 84.763 %\n"
     ]
    },
    {
     "name": "stderr",
     "output_type": "stream",
     "text": [
      " 96%|█████████▌| 6005/6250 [02:16<00:05, 45.12it/s]"
     ]
    },
    {
     "name": "stdout",
     "output_type": "stream",
     "text": [
      "8000\n",
      "Epoch: [3/10, 5999] loss: 0.060\n",
      "Training AC: 84.550 %\n"
     ]
    },
    {
     "name": "stderr",
     "output_type": "stream",
     "text": [
      "100%|██████████| 6250/6250 [02:21<00:00, 44.08it/s]\n",
      " 16%|█▌        | 1006/6250 [00:24<01:58, 44.31it/s]"
     ]
    },
    {
     "name": "stdout",
     "output_type": "stream",
     "text": [
      "8000\n",
      "Epoch: [4/10, 999] loss: 0.048\n",
      "Training AC: 88.288 %\n"
     ]
    },
    {
     "name": "stderr",
     "output_type": "stream",
     "text": [
      " 32%|███▏      | 2006/6250 [00:46<01:32, 45.91it/s]"
     ]
    },
    {
     "name": "stdout",
     "output_type": "stream",
     "text": [
      "8000\n",
      "Epoch: [4/10, 1999] loss: 0.050\n",
      "Training AC: 87.500 %\n"
     ]
    },
    {
     "name": "stderr",
     "output_type": "stream",
     "text": [
      " 48%|████▊     | 3006/6250 [01:08<01:10, 45.93it/s]"
     ]
    },
    {
     "name": "stdout",
     "output_type": "stream",
     "text": [
      "8000\n",
      "Epoch: [4/10, 2999] loss: 0.053\n",
      "Training AC: 86.700 %\n"
     ]
    },
    {
     "name": "stderr",
     "output_type": "stream",
     "text": [
      " 64%|██████▍   | 4006/6250 [01:30<00:48, 45.84it/s]"
     ]
    },
    {
     "name": "stdout",
     "output_type": "stream",
     "text": [
      "8000\n",
      "Epoch: [4/10, 3999] loss: 0.049\n",
      "Training AC: 88.038 %\n"
     ]
    },
    {
     "name": "stderr",
     "output_type": "stream",
     "text": [
      " 80%|████████  | 5006/6250 [01:51<00:27, 45.73it/s]"
     ]
    },
    {
     "name": "stdout",
     "output_type": "stream",
     "text": [
      "8000\n",
      "Epoch: [4/10, 4999] loss: 0.050\n",
      "Training AC: 87.263 %\n"
     ]
    },
    {
     "name": "stderr",
     "output_type": "stream",
     "text": [
      " 96%|█████████▌| 6006/6250 [02:13<00:05, 45.76it/s]"
     ]
    },
    {
     "name": "stdout",
     "output_type": "stream",
     "text": [
      "8000\n",
      "Epoch: [4/10, 5999] loss: 0.050\n",
      "Training AC: 87.588 %\n"
     ]
    },
    {
     "name": "stderr",
     "output_type": "stream",
     "text": [
      "100%|██████████| 6250/6250 [02:19<00:00, 44.91it/s]\n",
      " 16%|█▌        | 1005/6250 [00:23<01:54, 45.93it/s]"
     ]
    },
    {
     "name": "stdout",
     "output_type": "stream",
     "text": [
      "8000\n",
      "Epoch: [5/10, 999] loss: 0.038\n",
      "Training AC: 90.313 %\n"
     ]
    },
    {
     "name": "stderr",
     "output_type": "stream",
     "text": [
      " 32%|███▏      | 2005/6250 [00:45<01:32, 46.07it/s]"
     ]
    },
    {
     "name": "stdout",
     "output_type": "stream",
     "text": [
      "8000\n",
      "Epoch: [5/10, 1999] loss: 0.042\n",
      "Training AC: 89.900 %\n"
     ]
    },
    {
     "name": "stderr",
     "output_type": "stream",
     "text": [
      " 48%|████▊     | 3005/6250 [01:07<01:10, 45.92it/s]"
     ]
    },
    {
     "name": "stdout",
     "output_type": "stream",
     "text": [
      "8000\n",
      "Epoch: [5/10, 2999] loss: 0.042\n",
      "Training AC: 89.400 %\n"
     ]
    },
    {
     "name": "stderr",
     "output_type": "stream",
     "text": [
      " 64%|██████▍   | 4005/6250 [01:29<00:48, 45.83it/s]"
     ]
    },
    {
     "name": "stdout",
     "output_type": "stream",
     "text": [
      "8000\n",
      "Epoch: [5/10, 3999] loss: 0.042\n",
      "Training AC: 89.163 %\n"
     ]
    },
    {
     "name": "stderr",
     "output_type": "stream",
     "text": [
      " 80%|████████  | 5005/6250 [01:51<00:27, 45.83it/s]"
     ]
    },
    {
     "name": "stdout",
     "output_type": "stream",
     "text": [
      "8000\n",
      "Epoch: [5/10, 4999] loss: 0.041\n",
      "Training AC: 89.900 %\n"
     ]
    },
    {
     "name": "stderr",
     "output_type": "stream",
     "text": [
      " 96%|█████████▌| 6005/6250 [02:13<00:05, 45.96it/s]"
     ]
    },
    {
     "name": "stdout",
     "output_type": "stream",
     "text": [
      "8000\n",
      "Epoch: [5/10, 5999] loss: 0.043\n",
      "Training AC: 89.175 %\n"
     ]
    },
    {
     "name": "stderr",
     "output_type": "stream",
     "text": [
      "100%|██████████| 6250/6250 [02:18<00:00, 45.15it/s]\n",
      " 16%|█▌        | 1005/6250 [00:23<01:54, 45.61it/s]"
     ]
    },
    {
     "name": "stdout",
     "output_type": "stream",
     "text": [
      "8000\n",
      "Epoch: [6/10, 999] loss: 0.031\n",
      "Training AC: 92.000 %\n"
     ]
    },
    {
     "name": "stderr",
     "output_type": "stream",
     "text": [
      " 32%|███▏      | 2005/6250 [00:45<01:34, 44.78it/s]"
     ]
    },
    {
     "name": "stdout",
     "output_type": "stream",
     "text": [
      "8000\n",
      "Epoch: [6/10, 1999] loss: 0.031\n",
      "Training AC: 92.138 %\n"
     ]
    },
    {
     "name": "stderr",
     "output_type": "stream",
     "text": [
      " 48%|████▊     | 3005/6250 [01:07<01:10, 45.81it/s]"
     ]
    },
    {
     "name": "stdout",
     "output_type": "stream",
     "text": [
      "8000\n",
      "Epoch: [6/10, 2999] loss: 0.036\n",
      "Training AC: 91.063 %\n"
     ]
    },
    {
     "name": "stderr",
     "output_type": "stream",
     "text": [
      " 64%|██████▍   | 4005/6250 [01:29<00:48, 46.03it/s]"
     ]
    },
    {
     "name": "stdout",
     "output_type": "stream",
     "text": [
      "8000\n",
      "Epoch: [6/10, 3999] loss: 0.034\n",
      "Training AC: 91.525 %\n"
     ]
    },
    {
     "name": "stderr",
     "output_type": "stream",
     "text": [
      " 80%|████████  | 5005/6250 [01:51<00:27, 45.83it/s]"
     ]
    },
    {
     "name": "stdout",
     "output_type": "stream",
     "text": [
      "8000\n",
      "Epoch: [6/10, 4999] loss: 0.035\n",
      "Training AC: 91.825 %\n"
     ]
    },
    {
     "name": "stderr",
     "output_type": "stream",
     "text": [
      " 96%|█████████▌| 6005/6250 [02:13<00:05, 45.73it/s]"
     ]
    },
    {
     "name": "stdout",
     "output_type": "stream",
     "text": [
      "8000\n",
      "Epoch: [6/10, 5999] loss: 0.036\n",
      "Training AC: 91.500 %\n"
     ]
    },
    {
     "name": "stderr",
     "output_type": "stream",
     "text": [
      "100%|██████████| 6250/6250 [02:18<00:00, 45.09it/s]\n",
      " 16%|█▌        | 1006/6250 [00:24<01:55, 45.50it/s]"
     ]
    },
    {
     "name": "stdout",
     "output_type": "stream",
     "text": [
      "8000\n",
      "Epoch: [7/10, 999] loss: 0.027\n",
      "Training AC: 93.375 %\n"
     ]
    },
    {
     "name": "stderr",
     "output_type": "stream",
     "text": [
      " 32%|███▏      | 2006/6250 [00:46<01:33, 45.56it/s]"
     ]
    },
    {
     "name": "stdout",
     "output_type": "stream",
     "text": [
      "8000\n",
      "Epoch: [7/10, 1999] loss: 0.027\n",
      "Training AC: 93.838 %\n"
     ]
    },
    {
     "name": "stderr",
     "output_type": "stream",
     "text": [
      " 48%|████▊     | 3006/6250 [01:07<01:10, 45.84it/s]"
     ]
    },
    {
     "name": "stdout",
     "output_type": "stream",
     "text": [
      "8000\n",
      "Epoch: [7/10, 2999] loss: 0.030\n",
      "Training AC: 92.750 %\n"
     ]
    },
    {
     "name": "stderr",
     "output_type": "stream",
     "text": [
      " 64%|██████▍   | 4006/6250 [01:29<00:49, 45.69it/s]"
     ]
    },
    {
     "name": "stdout",
     "output_type": "stream",
     "text": [
      "8000\n",
      "Epoch: [7/10, 3999] loss: 0.028\n",
      "Training AC: 92.763 %\n"
     ]
    },
    {
     "name": "stderr",
     "output_type": "stream",
     "text": [
      " 80%|████████  | 5006/6250 [01:51<00:27, 45.38it/s]"
     ]
    },
    {
     "name": "stdout",
     "output_type": "stream",
     "text": [
      "8000\n",
      "Epoch: [7/10, 4999] loss: 0.030\n",
      "Training AC: 93.038 %\n"
     ]
    },
    {
     "name": "stderr",
     "output_type": "stream",
     "text": [
      " 96%|█████████▌| 6006/6250 [02:13<00:05, 45.48it/s]"
     ]
    },
    {
     "name": "stdout",
     "output_type": "stream",
     "text": [
      "8000\n",
      "Epoch: [7/10, 5999] loss: 0.031\n",
      "Training AC: 92.825 %\n"
     ]
    },
    {
     "name": "stderr",
     "output_type": "stream",
     "text": [
      "100%|██████████| 6250/6250 [02:19<00:00, 44.95it/s]\n",
      " 16%|█▌        | 1006/6250 [00:24<01:54, 45.73it/s]"
     ]
    },
    {
     "name": "stdout",
     "output_type": "stream",
     "text": [
      "8000\n",
      "Epoch: [8/10, 999] loss: 0.024\n",
      "Training AC: 94.238 %\n"
     ]
    },
    {
     "name": "stderr",
     "output_type": "stream",
     "text": [
      " 32%|███▏      | 2006/6250 [00:45<01:34, 45.01it/s]"
     ]
    },
    {
     "name": "stdout",
     "output_type": "stream",
     "text": [
      "8000\n",
      "Epoch: [8/10, 1999] loss: 0.025\n",
      "Training AC: 94.188 %\n"
     ]
    },
    {
     "name": "stderr",
     "output_type": "stream",
     "text": [
      " 48%|████▊     | 3006/6250 [01:07<01:10, 45.74it/s]"
     ]
    },
    {
     "name": "stdout",
     "output_type": "stream",
     "text": [
      "8000\n",
      "Epoch: [8/10, 2999] loss: 0.026\n",
      "Training AC: 93.613 %\n"
     ]
    },
    {
     "name": "stderr",
     "output_type": "stream",
     "text": [
      " 64%|██████▍   | 4006/6250 [01:29<00:49, 45.71it/s]"
     ]
    },
    {
     "name": "stdout",
     "output_type": "stream",
     "text": [
      "8000\n",
      "Epoch: [8/10, 3999] loss: 0.025\n",
      "Training AC: 94.025 %\n"
     ]
    },
    {
     "name": "stderr",
     "output_type": "stream",
     "text": [
      " 80%|████████  | 5006/6250 [01:51<00:27, 45.55it/s]"
     ]
    },
    {
     "name": "stdout",
     "output_type": "stream",
     "text": [
      "8000\n",
      "Epoch: [8/10, 4999] loss: 0.025\n",
      "Training AC: 93.900 %\n"
     ]
    },
    {
     "name": "stderr",
     "output_type": "stream",
     "text": [
      " 96%|█████████▌| 6006/6250 [02:13<00:05, 45.70it/s]"
     ]
    },
    {
     "name": "stdout",
     "output_type": "stream",
     "text": [
      "8000\n",
      "Epoch: [8/10, 5999] loss: 0.026\n",
      "Training AC: 93.988 %\n"
     ]
    },
    {
     "name": "stderr",
     "output_type": "stream",
     "text": [
      "100%|██████████| 6250/6250 [02:18<00:00, 45.07it/s]\n",
      " 16%|█▌        | 1006/6250 [00:24<01:54, 45.70it/s]"
     ]
    },
    {
     "name": "stdout",
     "output_type": "stream",
     "text": [
      "8000\n",
      "Epoch: [9/10, 999] loss: 0.019\n",
      "Training AC: 95.713 %\n"
     ]
    },
    {
     "name": "stderr",
     "output_type": "stream",
     "text": [
      " 32%|███▏      | 2006/6250 [00:45<01:32, 45.87it/s]"
     ]
    },
    {
     "name": "stdout",
     "output_type": "stream",
     "text": [
      "8000\n",
      "Epoch: [9/10, 1999] loss: 0.021\n",
      "Training AC: 95.225 %\n"
     ]
    },
    {
     "name": "stderr",
     "output_type": "stream",
     "text": [
      " 48%|████▊     | 3006/6250 [01:07<01:11, 45.57it/s]"
     ]
    },
    {
     "name": "stdout",
     "output_type": "stream",
     "text": [
      "8000\n",
      "Epoch: [9/10, 2999] loss: 0.023\n",
      "Training AC: 94.575 %\n"
     ]
    },
    {
     "name": "stderr",
     "output_type": "stream",
     "text": [
      " 64%|██████▍   | 4006/6250 [01:29<00:49, 45.67it/s]"
     ]
    },
    {
     "name": "stdout",
     "output_type": "stream",
     "text": [
      "8000\n",
      "Epoch: [9/10, 3999] loss: 0.022\n",
      "Training AC: 94.988 %\n"
     ]
    },
    {
     "name": "stderr",
     "output_type": "stream",
     "text": [
      " 80%|████████  | 5006/6250 [01:51<00:27, 45.77it/s]"
     ]
    },
    {
     "name": "stdout",
     "output_type": "stream",
     "text": [
      "8000\n",
      "Epoch: [9/10, 4999] loss: 0.024\n",
      "Training AC: 94.525 %\n"
     ]
    },
    {
     "name": "stderr",
     "output_type": "stream",
     "text": [
      " 96%|█████████▌| 6006/6250 [02:13<00:05, 45.76it/s]"
     ]
    },
    {
     "name": "stdout",
     "output_type": "stream",
     "text": [
      "8000\n",
      "Epoch: [9/10, 5999] loss: 0.021\n",
      "Training AC: 94.975 %\n"
     ]
    },
    {
     "name": "stderr",
     "output_type": "stream",
     "text": [
      "100%|██████████| 6250/6250 [02:18<00:00, 45.04it/s]\n",
      " 16%|█▌        | 1005/6250 [00:24<01:54, 45.68it/s]"
     ]
    },
    {
     "name": "stdout",
     "output_type": "stream",
     "text": [
      "8000\n",
      "Epoch: [10/10, 999] loss: 0.017\n",
      "Training AC: 95.988 %\n"
     ]
    },
    {
     "name": "stderr",
     "output_type": "stream",
     "text": [
      " 32%|███▏      | 2005/6250 [00:45<01:32, 45.70it/s]"
     ]
    },
    {
     "name": "stdout",
     "output_type": "stream",
     "text": [
      "8000\n",
      "Epoch: [10/10, 1999] loss: 0.020\n",
      "Training AC: 95.125 %\n"
     ]
    },
    {
     "name": "stderr",
     "output_type": "stream",
     "text": [
      " 48%|████▊     | 3005/6250 [01:07<01:11, 45.65it/s]"
     ]
    },
    {
     "name": "stdout",
     "output_type": "stream",
     "text": [
      "8000\n",
      "Epoch: [10/10, 2999] loss: 0.019\n",
      "Training AC: 95.500 %\n"
     ]
    },
    {
     "name": "stderr",
     "output_type": "stream",
     "text": [
      " 64%|██████▍   | 4005/6250 [01:29<00:49, 45.79it/s]"
     ]
    },
    {
     "name": "stdout",
     "output_type": "stream",
     "text": [
      "8000\n",
      "Epoch: [10/10, 3999] loss: 0.017\n",
      "Training AC: 95.925 %\n"
     ]
    },
    {
     "name": "stderr",
     "output_type": "stream",
     "text": [
      " 80%|████████  | 5005/6250 [01:51<00:27, 46.04it/s]"
     ]
    },
    {
     "name": "stdout",
     "output_type": "stream",
     "text": [
      "8000\n",
      "Epoch: [10/10, 4999] loss: 0.021\n",
      "Training AC: 95.313 %\n"
     ]
    },
    {
     "name": "stderr",
     "output_type": "stream",
     "text": [
      " 96%|█████████▌| 6005/6250 [02:13<00:05, 44.77it/s]"
     ]
    },
    {
     "name": "stdout",
     "output_type": "stream",
     "text": [
      "8000\n",
      "Epoch: [10/10, 5999] loss: 0.019\n",
      "Training AC: 95.513 %\n"
     ]
    },
    {
     "name": "stderr",
     "output_type": "stream",
     "text": [
      "100%|██████████| 6250/6250 [02:18<00:00, 44.99it/s]\n"
     ]
    }
   ],
   "source": [
    "train(modelA, criterion=criiterion, optimizer=optimizer_A, Epoch=Epoch, Data=train_loader, total=1000)"
   ]
  },
  {
   "cell_type": "code",
   "execution_count": 9,
   "metadata": {},
   "outputs": [
    {
     "name": "stderr",
     "output_type": "stream",
     "text": [
      " 13%|█▎        | 782/6250 [00:40<04:31, 20.13it/s]"
     ]
    },
    {
     "name": "stdout",
     "output_type": "stream",
     "text": [
      "6248\n",
      "Epoch: [1/10, 780] loss: 0.251\n",
      "Training AC: 22.615 %\n"
     ]
    },
    {
     "name": "stderr",
     "output_type": "stream",
     "text": [
      " 25%|██▌       | 1563/6250 [01:19<03:53, 20.10it/s]"
     ]
    },
    {
     "name": "stdout",
     "output_type": "stream",
     "text": [
      "6248\n",
      "Epoch: [1/10, 1561] loss: 0.223\n",
      "Training AC: 31.706 %\n"
     ]
    },
    {
     "name": "stderr",
     "output_type": "stream",
     "text": [
      " 38%|███▊      | 2344/6250 [01:58<03:14, 20.09it/s]"
     ]
    },
    {
     "name": "stdout",
     "output_type": "stream",
     "text": [
      "6248\n",
      "Epoch: [1/10, 2342] loss: 0.215\n",
      "Training AC: 34.347 %\n"
     ]
    },
    {
     "name": "stderr",
     "output_type": "stream",
     "text": [
      " 50%|█████     | 3127/6250 [02:37<02:35, 20.09it/s]"
     ]
    },
    {
     "name": "stdout",
     "output_type": "stream",
     "text": [
      "6248\n",
      "Epoch: [1/10, 3123] loss: 0.203\n",
      "Training AC: 37.996 %\n"
     ]
    },
    {
     "name": "stderr",
     "output_type": "stream",
     "text": [
      " 62%|██████▏   | 3906/6250 [03:16<01:56, 20.13it/s]"
     ]
    },
    {
     "name": "stdout",
     "output_type": "stream",
     "text": [
      "6248\n",
      "Epoch: [1/10, 3904] loss: 0.199\n",
      "Training AC: 40.429 %\n"
     ]
    },
    {
     "name": "stderr",
     "output_type": "stream",
     "text": [
      " 75%|███████▌  | 4689/6250 [03:54<01:17, 20.07it/s]"
     ]
    },
    {
     "name": "stdout",
     "output_type": "stream",
     "text": [
      "6248\n",
      "Epoch: [1/10, 4685] loss: 0.190\n",
      "Training AC: 43.518 %\n"
     ]
    },
    {
     "name": "stderr",
     "output_type": "stream",
     "text": [
      " 87%|████████▋ | 5468/6250 [04:33<00:38, 20.16it/s]"
     ]
    },
    {
     "name": "stdout",
     "output_type": "stream",
     "text": [
      "6248\n",
      "Epoch: [1/10, 5466] loss: 0.181\n",
      "Training AC: 47.119 %\n"
     ]
    },
    {
     "name": "stderr",
     "output_type": "stream",
     "text": [
      "100%|██████████| 6250/6250 [05:12<00:00, 19.99it/s]\n"
     ]
    },
    {
     "name": "stdout",
     "output_type": "stream",
     "text": [
      "6248\n",
      "Epoch: [1/10, 6247] loss: 0.174\n",
      "Training AC: 49.792 %\n"
     ]
    },
    {
     "name": "stderr",
     "output_type": "stream",
     "text": [
      " 13%|█▎        | 784/6250 [00:41<04:31, 20.10it/s]"
     ]
    },
    {
     "name": "stdout",
     "output_type": "stream",
     "text": [
      "6248\n",
      "Epoch: [2/10, 780] loss: 0.170\n",
      "Training AC: 51.216 %\n"
     ]
    },
    {
     "name": "stderr",
     "output_type": "stream",
     "text": [
      " 25%|██▌       | 1565/6250 [01:19<03:52, 20.13it/s]"
     ]
    },
    {
     "name": "stdout",
     "output_type": "stream",
     "text": [
      "6248\n",
      "Epoch: [2/10, 1561] loss: 0.160\n",
      "Training AC: 55.378 %\n"
     ]
    },
    {
     "name": "stderr",
     "output_type": "stream",
     "text": [
      " 38%|███▊      | 2345/6250 [01:58<03:14, 20.11it/s]"
     ]
    },
    {
     "name": "stdout",
     "output_type": "stream",
     "text": [
      "6248\n",
      "Epoch: [2/10, 2342] loss: 0.155\n",
      "Training AC: 55.954 %\n"
     ]
    },
    {
     "name": "stderr",
     "output_type": "stream",
     "text": [
      " 50%|█████     | 3127/6250 [02:37<02:35, 20.09it/s]"
     ]
    },
    {
     "name": "stdout",
     "output_type": "stream",
     "text": [
      "6248\n",
      "Epoch: [2/10, 3123] loss: 0.151\n",
      "Training AC: 56.370 %\n"
     ]
    },
    {
     "name": "stderr",
     "output_type": "stream",
     "text": [
      " 62%|██████▏   | 3906/6250 [03:16<01:56, 20.14it/s]"
     ]
    },
    {
     "name": "stdout",
     "output_type": "stream",
     "text": [
      "6248\n",
      "Epoch: [2/10, 3904] loss: 0.146\n",
      "Training AC: 58.755 %\n"
     ]
    },
    {
     "name": "stderr",
     "output_type": "stream",
     "text": [
      " 75%|███████▌  | 4688/6250 [03:55<01:17, 20.14it/s]"
     ]
    },
    {
     "name": "stdout",
     "output_type": "stream",
     "text": [
      "6248\n",
      "Epoch: [2/10, 4685] loss: 0.145\n",
      "Training AC: 59.075 %\n"
     ]
    },
    {
     "name": "stderr",
     "output_type": "stream",
     "text": [
      " 88%|████████▊ | 5470/6250 [04:33<00:38, 20.04it/s]"
     ]
    },
    {
     "name": "stdout",
     "output_type": "stream",
     "text": [
      "6248\n",
      "Epoch: [2/10, 5466] loss: 0.140\n",
      "Training AC: 60.819 %\n"
     ]
    },
    {
     "name": "stderr",
     "output_type": "stream",
     "text": [
      "100%|██████████| 6250/6250 [05:12<00:00, 19.98it/s]\n"
     ]
    },
    {
     "name": "stdout",
     "output_type": "stream",
     "text": [
      "6248\n",
      "Epoch: [2/10, 6247] loss: 0.140\n",
      "Training AC: 60.755 %\n"
     ]
    },
    {
     "name": "stderr",
     "output_type": "stream",
     "text": [
      " 13%|█▎        | 783/6250 [00:40<04:31, 20.14it/s]"
     ]
    },
    {
     "name": "stdout",
     "output_type": "stream",
     "text": [
      "6248\n",
      "Epoch: [3/10, 780] loss: 0.130\n",
      "Training AC: 62.772 %\n"
     ]
    },
    {
     "name": "stderr",
     "output_type": "stream",
     "text": [
      " 25%|██▌       | 1563/6250 [01:19<03:53, 20.07it/s]"
     ]
    },
    {
     "name": "stdout",
     "output_type": "stream",
     "text": [
      "6248\n",
      "Epoch: [3/10, 1561] loss: 0.131\n",
      "Training AC: 63.364 %\n"
     ]
    },
    {
     "name": "stderr",
     "output_type": "stream",
     "text": [
      " 38%|███▊      | 2346/6250 [01:58<03:13, 20.18it/s]"
     ]
    },
    {
     "name": "stdout",
     "output_type": "stream",
     "text": [
      "6248\n",
      "Epoch: [3/10, 2342] loss: 0.129\n",
      "Training AC: 64.004 %\n"
     ]
    },
    {
     "name": "stderr",
     "output_type": "stream",
     "text": [
      " 50%|█████     | 3127/6250 [02:37<02:35, 20.06it/s]"
     ]
    },
    {
     "name": "stdout",
     "output_type": "stream",
     "text": [
      "6248\n",
      "Epoch: [3/10, 3123] loss: 0.125\n",
      "Training AC: 64.549 %\n"
     ]
    },
    {
     "name": "stderr",
     "output_type": "stream",
     "text": [
      " 63%|██████▎   | 3908/6250 [03:16<01:56, 20.15it/s]"
     ]
    },
    {
     "name": "stdout",
     "output_type": "stream",
     "text": [
      "6248\n",
      "Epoch: [3/10, 3904] loss: 0.124\n",
      "Training AC: 66.021 %\n"
     ]
    },
    {
     "name": "stderr",
     "output_type": "stream",
     "text": [
      " 75%|███████▌  | 4689/6250 [03:55<01:17, 20.15it/s]"
     ]
    },
    {
     "name": "stdout",
     "output_type": "stream",
     "text": [
      "6248\n",
      "Epoch: [3/10, 4685] loss: 0.120\n",
      "Training AC: 67.189 %\n"
     ]
    },
    {
     "name": "stderr",
     "output_type": "stream",
     "text": [
      " 87%|████████▋ | 5468/6250 [04:33<00:38, 20.08it/s]"
     ]
    },
    {
     "name": "stdout",
     "output_type": "stream",
     "text": [
      "6248\n",
      "Epoch: [3/10, 5466] loss: 0.118\n",
      "Training AC: 66.853 %\n"
     ]
    },
    {
     "name": "stderr",
     "output_type": "stream",
     "text": [
      "100%|██████████| 6250/6250 [05:12<00:00, 19.99it/s]\n"
     ]
    },
    {
     "name": "stdout",
     "output_type": "stream",
     "text": [
      "6248\n",
      "Epoch: [3/10, 6247] loss: 0.117\n",
      "Training AC: 67.574 %\n"
     ]
    },
    {
     "name": "stderr",
     "output_type": "stream",
     "text": [
      " 13%|█▎        | 783/6250 [00:40<04:30, 20.19it/s]"
     ]
    },
    {
     "name": "stdout",
     "output_type": "stream",
     "text": [
      "6248\n",
      "Epoch: [4/10, 780] loss: 0.114\n",
      "Training AC: 68.406 %\n"
     ]
    },
    {
     "name": "stderr",
     "output_type": "stream",
     "text": [
      " 25%|██▌       | 1563/6250 [01:19<03:53, 20.07it/s]"
     ]
    },
    {
     "name": "stdout",
     "output_type": "stream",
     "text": [
      "6248\n",
      "Epoch: [4/10, 1561] loss: 0.109\n",
      "Training AC: 69.846 %\n"
     ]
    },
    {
     "name": "stderr",
     "output_type": "stream",
     "text": [
      " 38%|███▊      | 2344/6250 [01:58<03:13, 20.24it/s]"
     ]
    },
    {
     "name": "stdout",
     "output_type": "stream",
     "text": [
      "6248\n",
      "Epoch: [4/10, 2342] loss: 0.111\n",
      "Training AC: 69.590 %\n"
     ]
    },
    {
     "name": "stderr",
     "output_type": "stream",
     "text": [
      " 50%|█████     | 3126/6250 [02:37<02:35, 20.08it/s]"
     ]
    },
    {
     "name": "stdout",
     "output_type": "stream",
     "text": [
      "6248\n",
      "Epoch: [4/10, 3123] loss: 0.106\n",
      "Training AC: 70.903 %\n"
     ]
    },
    {
     "name": "stderr",
     "output_type": "stream",
     "text": [
      " 63%|██████▎   | 3907/6250 [03:16<01:55, 20.21it/s]"
     ]
    },
    {
     "name": "stdout",
     "output_type": "stream",
     "text": [
      "6248\n",
      "Epoch: [4/10, 3904] loss: 0.105\n",
      "Training AC: 71.223 %\n"
     ]
    },
    {
     "name": "stderr",
     "output_type": "stream",
     "text": [
      " 75%|███████▍  | 4687/6250 [03:54<01:18, 19.93it/s]"
     ]
    },
    {
     "name": "stdout",
     "output_type": "stream",
     "text": [
      "6248\n",
      "Epoch: [4/10, 4685] loss: 0.107\n",
      "Training AC: 70.727 %\n"
     ]
    },
    {
     "name": "stderr",
     "output_type": "stream",
     "text": [
      " 87%|████████▋ | 5468/6250 [04:33<00:38, 20.09it/s]"
     ]
    },
    {
     "name": "stdout",
     "output_type": "stream",
     "text": [
      "6248\n",
      "Epoch: [4/10, 5466] loss: 0.098\n",
      "Training AC: 73.688 %\n"
     ]
    },
    {
     "name": "stderr",
     "output_type": "stream",
     "text": [
      "100%|██████████| 6250/6250 [05:12<00:00, 19.99it/s]\n"
     ]
    },
    {
     "name": "stdout",
     "output_type": "stream",
     "text": [
      "6248\n",
      "Epoch: [4/10, 6247] loss: 0.103\n",
      "Training AC: 71.495 %\n"
     ]
    },
    {
     "name": "stderr",
     "output_type": "stream",
     "text": [
      " 13%|█▎        | 783/6250 [00:40<04:32, 20.07it/s]"
     ]
    },
    {
     "name": "stdout",
     "output_type": "stream",
     "text": [
      "6248\n",
      "Epoch: [5/10, 780] loss: 0.091\n",
      "Training AC: 75.624 %\n"
     ]
    },
    {
     "name": "stderr",
     "output_type": "stream",
     "text": [
      " 25%|██▌       | 1564/6250 [01:19<03:53, 20.10it/s]"
     ]
    },
    {
     "name": "stdout",
     "output_type": "stream",
     "text": [
      "6248\n",
      "Epoch: [5/10, 1561] loss: 0.091\n",
      "Training AC: 74.616 %\n"
     ]
    },
    {
     "name": "stderr",
     "output_type": "stream",
     "text": [
      " 38%|███▊      | 2345/6250 [01:59<03:20, 19.52it/s]"
     ]
    },
    {
     "name": "stdout",
     "output_type": "stream",
     "text": [
      "6248\n",
      "Epoch: [5/10, 2342] loss: 0.094\n",
      "Training AC: 73.960 %\n"
     ]
    },
    {
     "name": "stderr",
     "output_type": "stream",
     "text": [
      " 50%|█████     | 3127/6250 [02:38<02:38, 19.67it/s]"
     ]
    },
    {
     "name": "stdout",
     "output_type": "stream",
     "text": [
      "6248\n",
      "Epoch: [5/10, 3123] loss: 0.092\n",
      "Training AC: 74.744 %\n"
     ]
    },
    {
     "name": "stderr",
     "output_type": "stream",
     "text": [
      " 63%|██████▎   | 3907/6250 [03:18<01:57, 19.86it/s]"
     ]
    },
    {
     "name": "stdout",
     "output_type": "stream",
     "text": [
      "6248\n",
      "Epoch: [5/10, 3904] loss: 0.090\n",
      "Training AC: 75.384 %\n"
     ]
    },
    {
     "name": "stderr",
     "output_type": "stream",
     "text": [
      " 75%|███████▌  | 4688/6250 [03:58<01:18, 19.80it/s]"
     ]
    },
    {
     "name": "stdout",
     "output_type": "stream",
     "text": [
      "6248\n",
      "Epoch: [5/10, 4685] loss: 0.089\n",
      "Training AC: 75.736 %\n"
     ]
    },
    {
     "name": "stderr",
     "output_type": "stream",
     "text": [
      " 88%|████████▊ | 5469/6250 [04:36<00:38, 20.08it/s]"
     ]
    },
    {
     "name": "stdout",
     "output_type": "stream",
     "text": [
      "6248\n",
      "Epoch: [5/10, 5466] loss: 0.090\n",
      "Training AC: 75.912 %\n"
     ]
    },
    {
     "name": "stderr",
     "output_type": "stream",
     "text": [
      "100%|██████████| 6250/6250 [05:15<00:00, 19.79it/s]\n"
     ]
    },
    {
     "name": "stdout",
     "output_type": "stream",
     "text": [
      "6248\n",
      "Epoch: [5/10, 6247] loss: 0.086\n",
      "Training AC: 77.705 %\n"
     ]
    },
    {
     "name": "stderr",
     "output_type": "stream",
     "text": [
      " 13%|█▎        | 784/6250 [00:41<04:30, 20.20it/s]"
     ]
    },
    {
     "name": "stdout",
     "output_type": "stream",
     "text": [
      "6248\n",
      "Epoch: [6/10, 780] loss: 0.079\n",
      "Training AC: 78.985 %\n"
     ]
    },
    {
     "name": "stderr",
     "output_type": "stream",
     "text": [
      " 25%|██▌       | 1564/6250 [01:19<03:52, 20.15it/s]"
     ]
    },
    {
     "name": "stdout",
     "output_type": "stream",
     "text": [
      "6248\n",
      "Epoch: [6/10, 1561] loss: 0.077\n",
      "Training AC: 79.706 %\n"
     ]
    },
    {
     "name": "stderr",
     "output_type": "stream",
     "text": [
      " 38%|███▊      | 2344/6250 [01:58<03:14, 20.06it/s]"
     ]
    },
    {
     "name": "stdout",
     "output_type": "stream",
     "text": [
      "6248\n",
      "Epoch: [6/10, 2342] loss: 0.076\n",
      "Training AC: 80.154 %\n"
     ]
    },
    {
     "name": "stderr",
     "output_type": "stream",
     "text": [
      " 50%|█████     | 3127/6250 [02:37<02:38, 19.76it/s]"
     ]
    },
    {
     "name": "stdout",
     "output_type": "stream",
     "text": [
      "6248\n",
      "Epoch: [6/10, 3123] loss: 0.078\n",
      "Training AC: 80.138 %\n"
     ]
    },
    {
     "name": "stderr",
     "output_type": "stream",
     "text": [
      " 63%|██████▎   | 3907/6250 [03:17<02:01, 19.23it/s]"
     ]
    },
    {
     "name": "stdout",
     "output_type": "stream",
     "text": [
      "6248\n",
      "Epoch: [6/10, 3904] loss: 0.079\n",
      "Training AC: 78.809 %\n"
     ]
    },
    {
     "name": "stderr",
     "output_type": "stream",
     "text": [
      " 75%|███████▌  | 4688/6250 [03:57<01:19, 19.64it/s]"
     ]
    },
    {
     "name": "stdout",
     "output_type": "stream",
     "text": [
      "6248\n",
      "Epoch: [6/10, 4685] loss: 0.077\n",
      "Training AC: 79.946 %\n"
     ]
    },
    {
     "name": "stderr",
     "output_type": "stream",
     "text": [
      " 88%|████████▊ | 5470/6250 [04:38<00:39, 19.51it/s]"
     ]
    },
    {
     "name": "stdout",
     "output_type": "stream",
     "text": [
      "6248\n",
      "Epoch: [6/10, 5466] loss: 0.074\n",
      "Training AC: 79.786 %\n"
     ]
    },
    {
     "name": "stderr",
     "output_type": "stream",
     "text": [
      "100%|██████████| 6250/6250 [05:18<00:00, 19.60it/s]\n"
     ]
    },
    {
     "name": "stdout",
     "output_type": "stream",
     "text": [
      "6248\n",
      "Epoch: [6/10, 6247] loss: 0.076\n",
      "Training AC: 80.122 %\n"
     ]
    },
    {
     "name": "stderr",
     "output_type": "stream",
     "text": [
      " 13%|█▎        | 784/6250 [00:43<04:38, 19.63it/s]"
     ]
    },
    {
     "name": "stdout",
     "output_type": "stream",
     "text": [
      "6248\n",
      "Epoch: [7/10, 780] loss: 0.065\n",
      "Training AC: 83.099 %\n"
     ]
    },
    {
     "name": "stderr",
     "output_type": "stream",
     "text": [
      " 25%|██▌       | 1565/6250 [01:24<03:58, 19.62it/s]"
     ]
    },
    {
     "name": "stdout",
     "output_type": "stream",
     "text": [
      "6248\n",
      "Epoch: [7/10, 1561] loss: 0.067\n",
      "Training AC: 82.522 %\n"
     ]
    },
    {
     "name": "stderr",
     "output_type": "stream",
     "text": [
      " 38%|███▊      | 2346/6250 [02:04<03:19, 19.56it/s]"
     ]
    },
    {
     "name": "stdout",
     "output_type": "stream",
     "text": [
      "6248\n",
      "Epoch: [7/10, 2342] loss: 0.065\n",
      "Training AC: 83.499 %\n"
     ]
    },
    {
     "name": "stderr",
     "output_type": "stream",
     "text": [
      " 50%|█████     | 3127/6250 [02:43<02:39, 19.61it/s]"
     ]
    },
    {
     "name": "stdout",
     "output_type": "stream",
     "text": [
      "6248\n",
      "Epoch: [7/10, 3123] loss: 0.068\n",
      "Training AC: 82.474 %\n"
     ]
    },
    {
     "name": "stderr",
     "output_type": "stream",
     "text": [
      " 63%|██████▎   | 3907/6250 [03:24<02:00, 19.52it/s]"
     ]
    },
    {
     "name": "stdout",
     "output_type": "stream",
     "text": [
      "6248\n",
      "Epoch: [7/10, 3904] loss: 0.064\n",
      "Training AC: 83.435 %\n"
     ]
    },
    {
     "name": "stderr",
     "output_type": "stream",
     "text": [
      " 75%|███████▌  | 4689/6250 [04:05<01:22, 18.84it/s]"
     ]
    },
    {
     "name": "stdout",
     "output_type": "stream",
     "text": [
      "6248\n",
      "Epoch: [7/10, 4685] loss: 0.069\n",
      "Training AC: 82.106 %\n"
     ]
    },
    {
     "name": "stderr",
     "output_type": "stream",
     "text": [
      " 88%|████████▊ | 5469/6250 [04:45<00:41, 18.66it/s]"
     ]
    },
    {
     "name": "stdout",
     "output_type": "stream",
     "text": [
      "6248\n",
      "Epoch: [7/10, 5466] loss: 0.068\n",
      "Training AC: 82.442 %\n"
     ]
    },
    {
     "name": "stderr",
     "output_type": "stream",
     "text": [
      "100%|██████████| 6250/6250 [05:25<00:00, 19.18it/s]\n"
     ]
    },
    {
     "name": "stdout",
     "output_type": "stream",
     "text": [
      "6248\n",
      "Epoch: [7/10, 6247] loss: 0.064\n",
      "Training AC: 83.563 %\n"
     ]
    },
    {
     "name": "stderr",
     "output_type": "stream",
     "text": [
      " 13%|█▎        | 783/6250 [00:42<04:41, 19.40it/s]"
     ]
    },
    {
     "name": "stdout",
     "output_type": "stream",
     "text": [
      "6248\n",
      "Epoch: [8/10, 780] loss: 0.056\n",
      "Training AC: 85.403 %\n"
     ]
    },
    {
     "name": "stderr",
     "output_type": "stream",
     "text": [
      " 25%|██▌       | 1565/6250 [01:23<03:56, 19.81it/s]"
     ]
    },
    {
     "name": "stdout",
     "output_type": "stream",
     "text": [
      "6248\n",
      "Epoch: [8/10, 1561] loss: 0.057\n",
      "Training AC: 85.083 %\n"
     ]
    },
    {
     "name": "stderr",
     "output_type": "stream",
     "text": [
      " 38%|███▊      | 2345/6250 [02:02<03:18, 19.66it/s]"
     ]
    },
    {
     "name": "stdout",
     "output_type": "stream",
     "text": [
      "6248\n",
      "Epoch: [8/10, 2342] loss: 0.058\n",
      "Training AC: 84.987 %\n"
     ]
    },
    {
     "name": "stderr",
     "output_type": "stream",
     "text": [
      " 50%|█████     | 3126/6250 [02:42<02:38, 19.76it/s]"
     ]
    },
    {
     "name": "stdout",
     "output_type": "stream",
     "text": [
      "6248\n",
      "Epoch: [8/10, 3123] loss: 0.058\n",
      "Training AC: 84.843 %\n"
     ]
    },
    {
     "name": "stderr",
     "output_type": "stream",
     "text": [
      " 63%|██████▎   | 3908/6250 [03:22<01:58, 19.79it/s]"
     ]
    },
    {
     "name": "stdout",
     "output_type": "stream",
     "text": [
      "6248\n",
      "Epoch: [8/10, 3904] loss: 0.059\n",
      "Training AC: 84.731 %\n"
     ]
    },
    {
     "name": "stderr",
     "output_type": "stream",
     "text": [
      " 75%|███████▌  | 4688/6250 [04:01<01:19, 19.68it/s]"
     ]
    },
    {
     "name": "stdout",
     "output_type": "stream",
     "text": [
      "6248\n",
      "Epoch: [8/10, 4685] loss: 0.061\n",
      "Training AC: 84.443 %\n"
     ]
    },
    {
     "name": "stderr",
     "output_type": "stream",
     "text": [
      " 88%|████████▊ | 5469/6250 [04:41<00:39, 19.72it/s]"
     ]
    },
    {
     "name": "stdout",
     "output_type": "stream",
     "text": [
      "6248\n",
      "Epoch: [8/10, 5466] loss: 0.055\n",
      "Training AC: 85.435 %\n"
     ]
    },
    {
     "name": "stderr",
     "output_type": "stream",
     "text": [
      "100%|██████████| 6250/6250 [05:21<00:00, 19.43it/s]\n"
     ]
    },
    {
     "name": "stdout",
     "output_type": "stream",
     "text": [
      "6248\n",
      "Epoch: [8/10, 6247] loss: 0.060\n",
      "Training AC: 83.995 %\n"
     ]
    },
    {
     "name": "stderr",
     "output_type": "stream",
     "text": [
      " 13%|█▎        | 783/6250 [00:42<04:38, 19.65it/s]"
     ]
    },
    {
     "name": "stdout",
     "output_type": "stream",
     "text": [
      "6248\n",
      "Epoch: [9/10, 780] loss: 0.050\n",
      "Training AC: 86.300 %\n"
     ]
    },
    {
     "name": "stderr",
     "output_type": "stream",
     "text": [
      " 25%|██▌       | 1564/6250 [01:22<04:02, 19.31it/s]"
     ]
    },
    {
     "name": "stdout",
     "output_type": "stream",
     "text": [
      "6248\n",
      "Epoch: [9/10, 1561] loss: 0.051\n",
      "Training AC: 86.380 %\n"
     ]
    },
    {
     "name": "stderr",
     "output_type": "stream",
     "text": [
      " 38%|███▊      | 2346/6250 [02:03<03:22, 19.25it/s]"
     ]
    },
    {
     "name": "stdout",
     "output_type": "stream",
     "text": [
      "6248\n",
      "Epoch: [9/10, 2342] loss: 0.052\n",
      "Training AC: 86.476 %\n"
     ]
    },
    {
     "name": "stderr",
     "output_type": "stream",
     "text": [
      " 50%|█████     | 3126/6250 [02:44<02:43, 19.08it/s]"
     ]
    },
    {
     "name": "stdout",
     "output_type": "stream",
     "text": [
      "6248\n",
      "Epoch: [9/10, 3123] loss: 0.053\n",
      "Training AC: 85.964 %\n"
     ]
    },
    {
     "name": "stderr",
     "output_type": "stream",
     "text": [
      " 63%|██████▎   | 3908/6250 [03:24<02:01, 19.30it/s]"
     ]
    },
    {
     "name": "stdout",
     "output_type": "stream",
     "text": [
      "6248\n",
      "Epoch: [9/10, 3904] loss: 0.054\n",
      "Training AC: 86.156 %\n"
     ]
    },
    {
     "name": "stderr",
     "output_type": "stream",
     "text": [
      " 75%|███████▌  | 4688/6250 [04:05<01:20, 19.29it/s]"
     ]
    },
    {
     "name": "stdout",
     "output_type": "stream",
     "text": [
      "6248\n",
      "Epoch: [9/10, 4685] loss: 0.050\n",
      "Training AC: 86.716 %\n"
     ]
    },
    {
     "name": "stderr",
     "output_type": "stream",
     "text": [
      " 88%|████████▊ | 5470/6250 [04:46<00:41, 19.01it/s]"
     ]
    },
    {
     "name": "stdout",
     "output_type": "stream",
     "text": [
      "6248\n",
      "Epoch: [9/10, 5466] loss: 0.052\n",
      "Training AC: 86.428 %\n"
     ]
    },
    {
     "name": "stderr",
     "output_type": "stream",
     "text": [
      "100%|██████████| 6250/6250 [05:28<00:00, 17.91it/s]"
     ]
    },
    {
     "name": "stdout",
     "output_type": "stream",
     "text": [
      "6248\n",
      "Epoch: [9/10, 6247] loss: 0.049\n",
      "Training AC: 87.452 %\n"
     ]
    },
    {
     "name": "stderr",
     "output_type": "stream",
     "text": [
      "100%|██████████| 6250/6250 [05:28<00:00, 19.01it/s]\n",
      " 13%|█▎        | 783/6250 [00:43<04:55, 18.47it/s]"
     ]
    },
    {
     "name": "stdout",
     "output_type": "stream",
     "text": [
      "6248\n",
      "Epoch: [10/10, 780] loss: 0.044\n",
      "Training AC: 88.300 %\n"
     ]
    },
    {
     "name": "stderr",
     "output_type": "stream",
     "text": [
      " 25%|██▌       | 1565/6250 [01:24<04:03, 19.25it/s]"
     ]
    },
    {
     "name": "stdout",
     "output_type": "stream",
     "text": [
      "6248\n",
      "Epoch: [10/10, 1561] loss: 0.043\n",
      "Training AC: 88.540 %\n"
     ]
    },
    {
     "name": "stderr",
     "output_type": "stream",
     "text": [
      " 38%|███▊      | 2345/6250 [02:06<03:18, 19.66it/s]"
     ]
    },
    {
     "name": "stdout",
     "output_type": "stream",
     "text": [
      "6248\n",
      "Epoch: [10/10, 2342] loss: 0.047\n",
      "Training AC: 88.028 %\n"
     ]
    },
    {
     "name": "stderr",
     "output_type": "stream",
     "text": [
      " 50%|█████     | 3126/6250 [02:46<02:51, 18.22it/s]"
     ]
    },
    {
     "name": "stdout",
     "output_type": "stream",
     "text": [
      "6248\n",
      "Epoch: [10/10, 3123] loss: 0.044\n",
      "Training AC: 87.916 %\n"
     ]
    },
    {
     "name": "stderr",
     "output_type": "stream",
     "text": [
      " 63%|██████▎   | 3908/6250 [03:28<02:09, 18.05it/s]"
     ]
    },
    {
     "name": "stdout",
     "output_type": "stream",
     "text": [
      "6248\n",
      "Epoch: [10/10, 3904] loss: 0.046\n",
      "Training AC: 87.740 %\n"
     ]
    },
    {
     "name": "stderr",
     "output_type": "stream",
     "text": [
      " 75%|███████▌  | 4688/6250 [04:10<01:21, 19.28it/s]"
     ]
    },
    {
     "name": "stdout",
     "output_type": "stream",
     "text": [
      "6248\n",
      "Epoch: [10/10, 4685] loss: 0.044\n",
      "Training AC: 88.396 %\n"
     ]
    },
    {
     "name": "stderr",
     "output_type": "stream",
     "text": [
      " 88%|████████▊ | 5470/6250 [04:50<00:40, 19.41it/s]"
     ]
    },
    {
     "name": "stdout",
     "output_type": "stream",
     "text": [
      "6248\n",
      "Epoch: [10/10, 5466] loss: 0.044\n",
      "Training AC: 88.236 %\n"
     ]
    },
    {
     "name": "stderr",
     "output_type": "stream",
     "text": [
      "100%|██████████| 6250/6250 [05:30<00:00, 18.92it/s]"
     ]
    },
    {
     "name": "stdout",
     "output_type": "stream",
     "text": [
      "6248\n",
      "Epoch: [10/10, 6247] loss: 0.045\n",
      "Training AC: 87.772 %\n"
     ]
    },
    {
     "name": "stderr",
     "output_type": "stream",
     "text": [
      "\n"
     ]
    }
   ],
   "source": [
    "train(modelB, criterion=criiterion, optimizer=optimizer_B, Epoch=Epoch, Data=train_loader, total=int(len(train_loader)/batch_size))"
   ]
  },
  {
   "cell_type": "code",
   "execution_count": 11,
   "metadata": {},
   "outputs": [],
   "source": [
    "torch.save(modelA.state_dict(), 'resnet18.pth')\n",
    "torch.save(modelB.state_dict(), 'resnet50.pth')"
   ]
  },
  {
   "cell_type": "code",
   "execution_count": null,
   "metadata": {},
   "outputs": [],
   "source": []
  }
 ],
 "metadata": {
  "interpreter": {
   "hash": "74ea91778db1d856ff87590d1dff4d6dab0747003a22ee1eca989cea41e9e8d4"
  },
  "kernelspec": {
   "display_name": "Python 3.7.9 64-bit",
   "name": "python3"
  },
  "language_info": {
   "codemirror_mode": {
    "name": "ipython",
    "version": 3
   },
   "file_extension": ".py",
   "mimetype": "text/x-python",
   "name": "python",
   "nbconvert_exporter": "python",
   "pygments_lexer": "ipython3",
   "version": "3.7.9"
  },
  "orig_nbformat": 4
 },
 "nbformat": 4,
 "nbformat_minor": 2
}
