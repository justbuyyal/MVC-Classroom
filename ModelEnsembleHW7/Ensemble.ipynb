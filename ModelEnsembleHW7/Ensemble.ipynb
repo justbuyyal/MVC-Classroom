{
 "cells": [
  {
   "cell_type": "code",
   "execution_count": 1,
   "metadata": {},
   "outputs": [],
   "source": [
    "import torch\n",
    "import torch.nn as nn\n",
    "import torch.optim as optim\n",
    "import torchvision\n",
    "import torchvision.models as models\n",
    "import torchvision.transforms as transforms\n",
    "from torch.utils.data import DataLoader\n",
    "from tqdm import tqdm"
   ]
  },
  {
   "cell_type": "code",
   "execution_count": 2,
   "metadata": {},
   "outputs": [],
   "source": [
    "transform = {\n",
    "'train': transforms.Compose(\n",
    "    [transforms.Resize(256),\n",
    "     transforms.CenterCrop(224),\n",
    "     transforms.ToTensor(),\n",
    "     transforms.Normalize((0.485, 0.456, 0.406), (0.229, 0.224, 0.225))]),\n",
    "'test' : transforms.Compose(\n",
    "    [transforms.Resize(224),\n",
    "     transforms.ToTensor(),\n",
    "     transforms.Normalize((0.485, 0.456, 0.406), (0.229, 0.224, 0.225))])\n",
    "}\n",
    "\n",
    "batch_size = 16"
   ]
  },
  {
   "cell_type": "code",
   "execution_count": 3,
   "metadata": {},
   "outputs": [
    {
     "name": "stdout",
     "output_type": "stream",
     "text": [
      "Files already downloaded and verified\n",
      "Files already downloaded and verified\n"
     ]
    }
   ],
   "source": [
    "trainset = torchvision.datasets.CIFAR10(root='./data', train=True, download=True, transform=transform['train'])\n",
    "train_loader = DataLoader(trainset, batch_size=batch_size, shuffle=True, num_workers=2)\n",
    "\n",
    "testset = torchvision.datasets.CIFAR10(root='./data', train=False, download=True, transform=transform['test'])\n",
    "test_loader = DataLoader(testset, batch_size=batch_size, shuffle=False, num_workers=2)"
   ]
  },
  {
   "cell_type": "code",
   "execution_count": 9,
   "metadata": {},
   "outputs": [],
   "source": [
    "class ModelA(nn.Module):\n",
    "    def __init__(self, in_feature):\n",
    "        super().__init__()\n",
    "        self.FC = nn.Sequential(\n",
    "            nn.Linear(in_feature, 512),\n",
    "            nn.BatchNorm1d(512),\n",
    "            nn.ReLU(),\n",
    "            nn.Dropout(0.3),\n",
    "            nn.Linear(512, 256),\n",
    "            nn.BatchNorm1d(256),\n",
    "            nn.ReLU(),\n",
    "            nn.Dropout(0.3),\n",
    "            nn.Linear(256, 128),\n",
    "            nn.BatchNorm1d(128),\n",
    "            nn.ReLU(),\n",
    "            nn.Dropout(0.3),\n",
    "            nn.Linear(128, 10)\n",
    "        )\n",
    "    def forward(self, x):\n",
    "        x = self.FC(x)\n",
    "        return x"
   ]
  },
  {
   "cell_type": "code",
   "execution_count": 10,
   "metadata": {},
   "outputs": [],
   "source": [
    "device = torch.device('cuda:0' if torch.cuda.is_available() else 'cpu')\n",
    "\n",
    "modelA = models.resnet18(pretrained=True)\n",
    "num_feature = modelA.fc.in_features\n",
    "modelA.fc = ModelA(num_feature)\n",
    "# summary(modelA, (3, 224, 224), device='cpu')\n",
    "\n",
    "modelB = models.resnet50(pretrained=True)\n",
    "num_feature = modelB.fc.in_features\n",
    "modelB.fc = ModelA(num_feature)\n",
    "# summary(modelB, (3, 224, 224), device='cpu')"
   ]
  },
  {
   "cell_type": "code",
   "execution_count": 11,
   "metadata": {},
   "outputs": [],
   "source": [
    "def train(model, criterion, optimizer, Epoch, Data, total=1500):\n",
    "    criterion = criterion.to(device)\n",
    "    optimizer = optimizer\n",
    "    model.to(device)\n",
    "    model.train()\n",
    "    \n",
    "    for epoch in range(Epoch):\n",
    "        running_loss = 0.0\n",
    "        running_corrects = 0.0\n",
    "        T = 0\n",
    "        for idx, data in enumerate(tqdm(Data)):\n",
    "            inputs, labels = data\n",
    "            inputs, labels = inputs.to(device), labels.to(device)\n",
    "            optimizer.zero_grad()\n",
    "\n",
    "            outputs = model(inputs)\n",
    "            loss = criterion(outputs, labels)\n",
    "            loss.backward()\n",
    "            optimizer.step()\n",
    "\n",
    "            _, preds = torch.max(outputs, 1)\n",
    "            running_loss += loss.item()\n",
    "            running_corrects += torch.sum(preds == labels.data)\n",
    "            T += labels.size(0)\n",
    "\n",
    "            if idx % total == (total - 1):\n",
    "                print('Epoch: [%d/%d, %d] loss: %.3f'%((epoch+1), Epoch, idx, (running_loss / T)))\n",
    "                print('Training AC: %.3f %%'%(running_corrects / T * 100))\n",
    "                running_loss = 0.0\n",
    "                running_corrects = 0.0\n",
    "                T = 0"
   ]
  },
  {
   "cell_type": "code",
   "execution_count": 12,
   "metadata": {},
   "outputs": [],
   "source": [
    "criiterion = nn.CrossEntropyLoss()\n",
    "lr = 3e-4\n",
    "Epoch = 10\n",
    "optimizer_A = optim.Adam(modelA.parameters(), lr=lr)\n",
    "optimizer_B = optim.Adam(modelB.parameters(), lr=lr)"
   ]
  },
  {
   "cell_type": "code",
   "execution_count": 13,
   "metadata": {},
   "outputs": [
    {
     "name": "stderr",
     "output_type": "stream",
     "text": [
      " 48%|████▊     | 1504/3125 [00:48<00:50, 31.84it/s]"
     ]
    },
    {
     "name": "stdout",
     "output_type": "stream",
     "text": [
      "Epoch: [1/10, 1499] loss: 0.061\n",
      "Training AC: 69.171 %\n"
     ]
    },
    {
     "name": "stderr",
     "output_type": "stream",
     "text": [
      " 96%|█████████▌| 3004/3125 [01:33<00:03, 34.16it/s]"
     ]
    },
    {
     "name": "stdout",
     "output_type": "stream",
     "text": [
      "Epoch: [1/10, 2999] loss: 0.041\n",
      "Training AC: 79.246 %\n"
     ]
    },
    {
     "name": "stderr",
     "output_type": "stream",
     "text": [
      "100%|██████████| 3125/3125 [01:37<00:00, 32.03it/s]\n",
      " 48%|████▊     | 1505/3125 [00:47<00:50, 32.08it/s]"
     ]
    },
    {
     "name": "stdout",
     "output_type": "stream",
     "text": [
      "Epoch: [2/10, 1499] loss: 0.032\n",
      "Training AC: 83.912 %\n"
     ]
    },
    {
     "name": "stderr",
     "output_type": "stream",
     "text": [
      " 96%|█████████▌| 3005/3125 [01:32<00:03, 34.05it/s]"
     ]
    },
    {
     "name": "stdout",
     "output_type": "stream",
     "text": [
      "Epoch: [2/10, 2999] loss: 0.029\n",
      "Training AC: 85.050 %\n"
     ]
    },
    {
     "name": "stderr",
     "output_type": "stream",
     "text": [
      "100%|██████████| 3125/3125 [01:36<00:00, 32.54it/s]\n",
      " 48%|████▊     | 1505/3125 [00:46<00:48, 33.53it/s]"
     ]
    },
    {
     "name": "stdout",
     "output_type": "stream",
     "text": [
      "Epoch: [3/10, 1499] loss: 0.023\n",
      "Training AC: 88.354 %\n"
     ]
    },
    {
     "name": "stderr",
     "output_type": "stream",
     "text": [
      " 96%|█████████▌| 3005/3125 [01:31<00:03, 34.30it/s]"
     ]
    },
    {
     "name": "stdout",
     "output_type": "stream",
     "text": [
      "Epoch: [3/10, 2999] loss: 0.022\n",
      "Training AC: 88.750 %\n"
     ]
    },
    {
     "name": "stderr",
     "output_type": "stream",
     "text": [
      "100%|██████████| 3125/3125 [01:34<00:00, 32.95it/s]\n",
      " 48%|████▊     | 1505/3125 [00:46<00:48, 33.32it/s]"
     ]
    },
    {
     "name": "stdout",
     "output_type": "stream",
     "text": [
      "Epoch: [4/10, 1499] loss: 0.017\n",
      "Training AC: 91.254 %\n"
     ]
    },
    {
     "name": "stderr",
     "output_type": "stream",
     "text": [
      " 96%|█████████▌| 3005/3125 [01:31<00:03, 33.94it/s]"
     ]
    },
    {
     "name": "stdout",
     "output_type": "stream",
     "text": [
      "Epoch: [4/10, 2999] loss: 0.018\n",
      "Training AC: 90.946 %\n"
     ]
    },
    {
     "name": "stderr",
     "output_type": "stream",
     "text": [
      "100%|██████████| 3125/3125 [01:34<00:00, 32.97it/s]\n",
      " 48%|████▊     | 1504/3125 [00:46<00:47, 33.96it/s]"
     ]
    },
    {
     "name": "stdout",
     "output_type": "stream",
     "text": [
      "Epoch: [5/10, 1499] loss: 0.013\n",
      "Training AC: 93.746 %\n"
     ]
    },
    {
     "name": "stderr",
     "output_type": "stream",
     "text": [
      " 96%|█████████▌| 3004/3125 [01:30<00:03, 34.01it/s]"
     ]
    },
    {
     "name": "stdout",
     "output_type": "stream",
     "text": [
      "Epoch: [5/10, 2999] loss: 0.014\n",
      "Training AC: 92.800 %\n"
     ]
    },
    {
     "name": "stderr",
     "output_type": "stream",
     "text": [
      "100%|██████████| 3125/3125 [01:34<00:00, 33.04it/s]\n",
      " 48%|████▊     | 1505/3125 [00:46<00:47, 34.14it/s]"
     ]
    },
    {
     "name": "stdout",
     "output_type": "stream",
     "text": [
      "Epoch: [6/10, 1499] loss: 0.010\n",
      "Training AC: 94.938 %\n"
     ]
    },
    {
     "name": "stderr",
     "output_type": "stream",
     "text": [
      " 96%|█████████▌| 3005/3125 [01:30<00:03, 33.86it/s]"
     ]
    },
    {
     "name": "stdout",
     "output_type": "stream",
     "text": [
      "Epoch: [6/10, 2999] loss: 0.011\n",
      "Training AC: 94.108 %\n"
     ]
    },
    {
     "name": "stderr",
     "output_type": "stream",
     "text": [
      "100%|██████████| 3125/3125 [01:34<00:00, 33.19it/s]\n",
      " 48%|████▊     | 1505/3125 [00:46<00:47, 34.20it/s]"
     ]
    },
    {
     "name": "stdout",
     "output_type": "stream",
     "text": [
      "Epoch: [7/10, 1499] loss: 0.008\n",
      "Training AC: 95.896 %\n"
     ]
    },
    {
     "name": "stderr",
     "output_type": "stream",
     "text": [
      " 96%|█████████▌| 3005/3125 [01:30<00:03, 34.09it/s]"
     ]
    },
    {
     "name": "stdout",
     "output_type": "stream",
     "text": [
      "Epoch: [7/10, 2999] loss: 0.009\n",
      "Training AC: 95.404 %\n"
     ]
    },
    {
     "name": "stderr",
     "output_type": "stream",
     "text": [
      "100%|██████████| 3125/3125 [01:34<00:00, 33.17it/s]\n",
      " 48%|████▊     | 1505/3125 [00:46<00:47, 33.93it/s]"
     ]
    },
    {
     "name": "stdout",
     "output_type": "stream",
     "text": [
      "Epoch: [8/10, 1499] loss: 0.007\n",
      "Training AC: 96.617 %\n"
     ]
    },
    {
     "name": "stderr",
     "output_type": "stream",
     "text": [
      " 96%|█████████▌| 3005/3125 [01:30<00:03, 32.30it/s]"
     ]
    },
    {
     "name": "stdout",
     "output_type": "stream",
     "text": [
      "Epoch: [8/10, 2999] loss: 0.008\n",
      "Training AC: 96.104 %\n"
     ]
    },
    {
     "name": "stderr",
     "output_type": "stream",
     "text": [
      "100%|██████████| 3125/3125 [01:34<00:00, 33.13it/s]\n",
      " 48%|████▊     | 1505/3125 [00:46<00:48, 33.56it/s]"
     ]
    },
    {
     "name": "stdout",
     "output_type": "stream",
     "text": [
      "Epoch: [9/10, 1499] loss: 0.006\n",
      "Training AC: 96.946 %\n"
     ]
    },
    {
     "name": "stderr",
     "output_type": "stream",
     "text": [
      " 96%|█████████▌| 3005/3125 [01:30<00:03, 33.03it/s]"
     ]
    },
    {
     "name": "stdout",
     "output_type": "stream",
     "text": [
      "Epoch: [9/10, 2999] loss: 0.006\n",
      "Training AC: 96.717 %\n"
     ]
    },
    {
     "name": "stderr",
     "output_type": "stream",
     "text": [
      "100%|██████████| 3125/3125 [01:34<00:00, 33.05it/s]\n",
      " 48%|████▊     | 1505/3125 [00:45<00:47, 34.04it/s]"
     ]
    },
    {
     "name": "stdout",
     "output_type": "stream",
     "text": [
      "Epoch: [10/10, 1499] loss: 0.005\n",
      "Training AC: 97.463 %\n"
     ]
    },
    {
     "name": "stderr",
     "output_type": "stream",
     "text": [
      " 96%|█████████▌| 3005/3125 [01:29<00:03, 34.17it/s]"
     ]
    },
    {
     "name": "stdout",
     "output_type": "stream",
     "text": [
      "Epoch: [10/10, 2999] loss: 0.006\n",
      "Training AC: 97.133 %\n"
     ]
    },
    {
     "name": "stderr",
     "output_type": "stream",
     "text": [
      "100%|██████████| 3125/3125 [01:33<00:00, 33.51it/s]\n"
     ]
    }
   ],
   "source": [
    "train(modelA, criterion=criiterion, optimizer=optimizer_A, Epoch=Epoch, Data=train_loader)"
   ]
  },
  {
   "cell_type": "code",
   "execution_count": 14,
   "metadata": {},
   "outputs": [
    {
     "name": "stderr",
     "output_type": "stream",
     "text": [
      " 48%|████▊     | 1501/3125 [01:59<02:06, 12.86it/s]"
     ]
    },
    {
     "name": "stdout",
     "output_type": "stream",
     "text": [
      "Epoch: [1/10, 1499] loss: 0.072\n",
      "Training AC: 62.658 %\n"
     ]
    },
    {
     "name": "stderr",
     "output_type": "stream",
     "text": [
      " 96%|█████████▌| 3001/3125 [03:56<00:09, 12.71it/s]"
     ]
    },
    {
     "name": "stdout",
     "output_type": "stream",
     "text": [
      "Epoch: [1/10, 2999] loss: 0.051\n",
      "Training AC: 73.567 %\n"
     ]
    },
    {
     "name": "stderr",
     "output_type": "stream",
     "text": [
      "100%|██████████| 3125/3125 [04:06<00:00, 12.69it/s]\n",
      " 48%|████▊     | 1501/3125 [02:01<02:07, 12.76it/s]"
     ]
    },
    {
     "name": "stdout",
     "output_type": "stream",
     "text": [
      "Epoch: [2/10, 1499] loss: 0.041\n",
      "Training AC: 79.113 %\n"
     ]
    },
    {
     "name": "stderr",
     "output_type": "stream",
     "text": [
      " 96%|█████████▌| 3001/3125 [04:00<00:09, 12.77it/s]"
     ]
    },
    {
     "name": "stdout",
     "output_type": "stream",
     "text": [
      "Epoch: [2/10, 2999] loss: 0.037\n",
      "Training AC: 80.883 %\n"
     ]
    },
    {
     "name": "stderr",
     "output_type": "stream",
     "text": [
      "100%|██████████| 3125/3125 [04:11<00:00, 12.44it/s]\n",
      " 48%|████▊     | 1501/3125 [02:00<02:11, 12.32it/s]"
     ]
    },
    {
     "name": "stdout",
     "output_type": "stream",
     "text": [
      "Epoch: [3/10, 1499] loss: 0.031\n",
      "Training AC: 84.262 %\n"
     ]
    },
    {
     "name": "stderr",
     "output_type": "stream",
     "text": [
      " 96%|█████████▌| 3001/3125 [04:05<00:09, 12.52it/s]"
     ]
    },
    {
     "name": "stdout",
     "output_type": "stream",
     "text": [
      "Epoch: [3/10, 2999] loss: 0.029\n",
      "Training AC: 84.917 %\n"
     ]
    },
    {
     "name": "stderr",
     "output_type": "stream",
     "text": [
      "100%|██████████| 3125/3125 [04:14<00:00, 12.26it/s]\n",
      " 48%|████▊     | 1501/3125 [02:03<02:12, 12.22it/s]"
     ]
    },
    {
     "name": "stdout",
     "output_type": "stream",
     "text": [
      "Epoch: [4/10, 1499] loss: 0.025\n",
      "Training AC: 87.383 %\n"
     ]
    },
    {
     "name": "stderr",
     "output_type": "stream",
     "text": [
      " 96%|█████████▌| 3001/3125 [04:02<00:09, 12.71it/s]"
     ]
    },
    {
     "name": "stdout",
     "output_type": "stream",
     "text": [
      "Epoch: [4/10, 2999] loss: 0.024\n",
      "Training AC: 87.783 %\n"
     ]
    },
    {
     "name": "stderr",
     "output_type": "stream",
     "text": [
      "100%|██████████| 3125/3125 [04:12<00:00, 12.40it/s]\n",
      " 48%|████▊     | 1501/3125 [02:00<02:07, 12.71it/s]"
     ]
    },
    {
     "name": "stdout",
     "output_type": "stream",
     "text": [
      "Epoch: [5/10, 1499] loss: 0.020\n",
      "Training AC: 89.846 %\n"
     ]
    },
    {
     "name": "stderr",
     "output_type": "stream",
     "text": [
      " 96%|█████████▌| 3001/3125 [03:58<00:09, 12.78it/s]"
     ]
    },
    {
     "name": "stdout",
     "output_type": "stream",
     "text": [
      "Epoch: [5/10, 2999] loss: 0.021\n",
      "Training AC: 89.246 %\n"
     ]
    },
    {
     "name": "stderr",
     "output_type": "stream",
     "text": [
      "100%|██████████| 3125/3125 [04:07<00:00, 12.61it/s]\n",
      " 48%|████▊     | 1501/3125 [01:59<02:07, 12.72it/s]"
     ]
    },
    {
     "name": "stdout",
     "output_type": "stream",
     "text": [
      "Epoch: [6/10, 1499] loss: 0.016\n",
      "Training AC: 91.804 %\n"
     ]
    },
    {
     "name": "stderr",
     "output_type": "stream",
     "text": [
      " 96%|█████████▌| 3001/3125 [03:57<00:09, 12.72it/s]"
     ]
    },
    {
     "name": "stdout",
     "output_type": "stream",
     "text": [
      "Epoch: [6/10, 2999] loss: 0.017\n",
      "Training AC: 91.146 %\n"
     ]
    },
    {
     "name": "stderr",
     "output_type": "stream",
     "text": [
      "100%|██████████| 3125/3125 [04:07<00:00, 12.64it/s]\n",
      " 48%|████▊     | 1501/3125 [01:59<02:08, 12.68it/s]"
     ]
    },
    {
     "name": "stdout",
     "output_type": "stream",
     "text": [
      "Epoch: [7/10, 1499] loss: 0.013\n",
      "Training AC: 93.083 %\n"
     ]
    },
    {
     "name": "stderr",
     "output_type": "stream",
     "text": [
      " 96%|█████████▌| 3001/3125 [03:57<00:09, 12.76it/s]"
     ]
    },
    {
     "name": "stdout",
     "output_type": "stream",
     "text": [
      "Epoch: [7/10, 2999] loss: 0.014\n",
      "Training AC: 92.608 %\n"
     ]
    },
    {
     "name": "stderr",
     "output_type": "stream",
     "text": [
      "100%|██████████| 3125/3125 [04:07<00:00, 12.64it/s]\n",
      " 48%|████▊     | 1501/3125 [01:59<02:07, 12.75it/s]"
     ]
    },
    {
     "name": "stdout",
     "output_type": "stream",
     "text": [
      "Epoch: [8/10, 1499] loss: 0.011\n",
      "Training AC: 94.592 %\n"
     ]
    },
    {
     "name": "stderr",
     "output_type": "stream",
     "text": [
      " 96%|█████████▌| 3001/3125 [03:57<00:09, 12.57it/s]"
     ]
    },
    {
     "name": "stdout",
     "output_type": "stream",
     "text": [
      "Epoch: [8/10, 2999] loss: 0.013\n",
      "Training AC: 93.525 %\n"
     ]
    },
    {
     "name": "stderr",
     "output_type": "stream",
     "text": [
      "100%|██████████| 3125/3125 [04:07<00:00, 12.64it/s]\n",
      " 48%|████▊     | 1501/3125 [01:59<02:07, 12.69it/s]"
     ]
    },
    {
     "name": "stdout",
     "output_type": "stream",
     "text": [
      "Epoch: [9/10, 1499] loss: 0.009\n",
      "Training AC: 95.333 %\n"
     ]
    },
    {
     "name": "stderr",
     "output_type": "stream",
     "text": [
      " 96%|█████████▌| 3001/3125 [03:57<00:09, 12.75it/s]"
     ]
    },
    {
     "name": "stdout",
     "output_type": "stream",
     "text": [
      "Epoch: [9/10, 2999] loss: 0.011\n",
      "Training AC: 94.392 %\n"
     ]
    },
    {
     "name": "stderr",
     "output_type": "stream",
     "text": [
      "100%|██████████| 3125/3125 [04:07<00:00, 12.64it/s]\n",
      " 48%|████▊     | 1501/3125 [02:00<02:07, 12.78it/s]"
     ]
    },
    {
     "name": "stdout",
     "output_type": "stream",
     "text": [
      "Epoch: [10/10, 1499] loss: 0.008\n",
      "Training AC: 95.704 %\n"
     ]
    },
    {
     "name": "stderr",
     "output_type": "stream",
     "text": [
      " 96%|█████████▌| 3001/3125 [03:57<00:09, 12.83it/s]"
     ]
    },
    {
     "name": "stdout",
     "output_type": "stream",
     "text": [
      "Epoch: [10/10, 2999] loss: 0.009\n",
      "Training AC: 95.179 %\n"
     ]
    },
    {
     "name": "stderr",
     "output_type": "stream",
     "text": [
      "100%|██████████| 3125/3125 [04:07<00:00, 12.64it/s]\n"
     ]
    }
   ],
   "source": [
    "train(modelB, criterion=criiterion, optimizer=optimizer_B, Epoch=Epoch, Data=train_loader)"
   ]
  },
  {
   "cell_type": "code",
   "execution_count": 15,
   "metadata": {},
   "outputs": [],
   "source": [
    "torch.save(modelA.state_dict(), 'resnet18.pth')\n",
    "torch.save(modelB.state_dict(), 'resnet50.pth')"
   ]
  },
  {
   "cell_type": "markdown",
   "metadata": {},
   "source": [
    "# Test ModelA and ModelB"
   ]
  },
  {
   "cell_type": "code",
   "execution_count": 125,
   "metadata": {},
   "outputs": [
    {
     "data": {
      "text/plain": [
       "<All keys matched successfully>"
      ]
     },
     "execution_count": 125,
     "metadata": {},
     "output_type": "execute_result"
    }
   ],
   "source": [
    "test_A = models.resnet18(pretrained=True)\n",
    "num_feature = test_A.fc.in_features\n",
    "test_A.fc = ModelA(num_feature)\n",
    "test_A.load_state_dict(torch.load('./resnet18.pth'))\n",
    "\n",
    "test_B = models.resnet50(pretrained=True)\n",
    "num_feature = test_B.fc.in_features\n",
    "test_B.fc = ModelA(num_feature) \n",
    "test_B.load_state_dict(torch.load('./resnet50.pth'))"
   ]
  },
  {
   "cell_type": "code",
   "execution_count": 115,
   "metadata": {},
   "outputs": [],
   "source": [
    "def testing(model, Data):\n",
    "    model.to(device)\n",
    "    model.eval()\n",
    "    testing_corrects = 0.0\n",
    "    T = 0.0\n",
    "    \n",
    "    for idx, data in enumerate(tqdm(Data)):\n",
    "        inputs, labels = data\n",
    "        inputs, labels = inputs.to(device), labels.to(device)\n",
    "\n",
    "        outputs = model(inputs)\n",
    "\n",
    "        _, preds = torch.max(outputs, 1)\n",
    "        testing_corrects += torch.sum(preds == labels.data)\n",
    "        T += labels.size(0)\n",
    "    print('Testing AC = %.3f %%'%(testing_corrects / T * 100))\n",
    "    return"
   ]
  },
  {
   "cell_type": "code",
   "execution_count": 126,
   "metadata": {},
   "outputs": [
    {
     "name": "stderr",
     "output_type": "stream",
     "text": [
      "100%|██████████| 625/625 [00:06<00:00, 91.67it/s] \n"
     ]
    },
    {
     "name": "stdout",
     "output_type": "stream",
     "text": [
      "Testing AC = 90.880 %\n"
     ]
    },
    {
     "name": "stderr",
     "output_type": "stream",
     "text": [
      "100%|██████████| 625/625 [00:15<00:00, 41.47it/s]"
     ]
    },
    {
     "name": "stdout",
     "output_type": "stream",
     "text": [
      "Testing AC = 89.120 %\n"
     ]
    },
    {
     "name": "stderr",
     "output_type": "stream",
     "text": [
      "\n"
     ]
    }
   ],
   "source": [
    "testing(test_A, test_loader)\n",
    "testing(test_B, test_loader)"
   ]
  },
  {
   "cell_type": "markdown",
   "metadata": {},
   "source": [
    "# Remove last linear layer of each model"
   ]
  },
  {
   "cell_type": "code",
   "execution_count": 127,
   "metadata": {},
   "outputs": [],
   "source": [
    "from torchsummary import summary\n",
    "# summary(test_A, (3, 224, 224), device='cpu')\n",
    "test_A.fc = nn.Linear(models.resnet18().fc.in_features, 512)\n",
    "\n",
    "test_B.fc = nn.Linear(models.resnet50().fc.in_features, 512)"
   ]
  },
  {
   "cell_type": "markdown",
   "metadata": {},
   "source": [
    "# Ensemble Model with two"
   ]
  },
  {
   "cell_type": "code",
   "execution_count": 128,
   "metadata": {},
   "outputs": [],
   "source": [
    "class Ensemble(nn.Module):\n",
    "    def __init__(self, modelA, modelB, in_features):\n",
    "        super(Ensemble, self).__init__()\n",
    "        self.modelA = modelA\n",
    "        self.modelB = modelB\n",
    "        self.fc = nn.Sequential(\n",
    "            nn.Linear(in_features * 2, 512),\n",
    "            nn.BatchNorm1d(512),\n",
    "            nn.ReLU(),\n",
    "            nn.Dropout(0.3),\n",
    "            nn.Linear(512, 256),\n",
    "            nn.BatchNorm1d(256),\n",
    "            nn.ReLU(),\n",
    "            nn.Dropout(0.3),\n",
    "            nn.Linear(256, 128),\n",
    "            nn.BatchNorm1d(128),\n",
    "            nn.ReLU(),\n",
    "            nn.Dropout(0.3),\n",
    "            nn.Linear(128, 10)\n",
    "        )\n",
    "    def forward(self, x):\n",
    "        output1 = self.modelA(x)\n",
    "        output2 = self.modelB(x)\n",
    "        output = torch.cat((output1, output2), 1)\n",
    "        x = self.fc(output)\n",
    "        return x"
   ]
  },
  {
   "cell_type": "code",
   "execution_count": 129,
   "metadata": {},
   "outputs": [],
   "source": [
    "num_feature = test_A.fc.out_features\n",
    "Ensemble_model = Ensemble(test_A, test_B, num_feature)\n",
    "\n",
    "lr = 5e-4\n",
    "Epoch = 10\n",
    "criterion = nn.CrossEntropyLoss()\n",
    "optimizer = optim.Adam(Ensemble_model.parameters(), lr=lr)\n",
    "scheduler = optim.lr_scheduler.ExponentialLR(optimizer, gamma=0.9)"
   ]
  },
  {
   "cell_type": "code",
   "execution_count": 130,
   "metadata": {},
   "outputs": [],
   "source": [
    "# Freeze Resnet18 and Resnet50, training FC layer\n",
    "ct = 0\n",
    "for child in Ensemble_model.children():\n",
    "    ct+=1\n",
    "    if ct < 3:\n",
    "        for param in child.parameters():\n",
    "            param.requires_grad = False"
   ]
  },
  {
   "cell_type": "markdown",
   "metadata": {},
   "source": [
    "# Train Ensemble Model"
   ]
  },
  {
   "cell_type": "code",
   "execution_count": 131,
   "metadata": {},
   "outputs": [],
   "source": [
    "# Freeze backbone layer and train last linear layer\n",
    "def Entrain(model, criterion, optimizer, scheduler, Epoch, Data, total=1500):\n",
    "    criterion = criterion.to(device)\n",
    "    optimizer = optimizer\n",
    "    scheduler = scheduler\n",
    "    model.to(device)\n",
    "    model.train()\n",
    "    \n",
    "    for epoch in range(Epoch):\n",
    "        running_loss = 0.0\n",
    "        running_corrects = 0.0\n",
    "        T = 0\n",
    "        for idx, data in enumerate(tqdm(Data)):\n",
    "            inputs, labels = data\n",
    "            inputs, labels = inputs.to(device), labels.to(device)\n",
    "            optimizer.zero_grad()\n",
    "\n",
    "            outputs = model(inputs)\n",
    "            loss = criterion(outputs, labels)\n",
    "            loss.backward()\n",
    "            optimizer.step()\n",
    "\n",
    "            _, preds = torch.max(outputs, 1)\n",
    "            running_loss += loss.item()\n",
    "            running_corrects += torch.sum(preds == labels.data)\n",
    "            T += labels.size(0)\n",
    "\n",
    "            if idx % total == (total - 1):\n",
    "                print('Epoch: [%d/%d, %d] loss: %.3f'%((epoch+1), Epoch, idx, (running_loss / T)))\n",
    "                print('Training AC: %.3f %%'%(running_corrects / T * 100))\n",
    "                running_loss = 0.0\n",
    "                running_corrects = 0.0\n",
    "                T = 0\n",
    "    scheduler.step()"
   ]
  },
  {
   "cell_type": "code",
   "execution_count": 132,
   "metadata": {},
   "outputs": [
    {
     "name": "stderr",
     "output_type": "stream",
     "text": [
      "  4%|▍         | 122/3125 [00:06<01:40, 29.99it/s]"
     ]
    }
   ],
   "source": [
    "Entrain(Ensemble_model, criterion=criterion, optimizer=optimizer, scheduler=scheduler, Epoch=Epoch, Data=train_loader)"
   ]
  },
  {
   "cell_type": "code",
   "execution_count": null,
   "metadata": {},
   "outputs": [
    {
     "name": "stderr",
     "output_type": "stream",
     "text": [
      "100%|██████████| 625/625 [00:19<00:00, 32.40it/s]"
     ]
    },
    {
     "name": "stdout",
     "output_type": "stream",
     "text": [
      "Testing AC = 92.730 %\n"
     ]
    },
    {
     "name": "stderr",
     "output_type": "stream",
     "text": [
      "\n"
     ]
    }
   ],
   "source": [
    "testing(Ensemble_model, test_loader)"
   ]
  },
  {
   "cell_type": "code",
   "execution_count": null,
   "metadata": {},
   "outputs": [],
   "source": [
    "torch.save(Ensemble_model, './Ensemble.pth')"
   ]
  }
 ],
 "metadata": {
  "interpreter": {
   "hash": "74ea91778db1d856ff87590d1dff4d6dab0747003a22ee1eca989cea41e9e8d4"
  },
  "kernelspec": {
   "display_name": "Python 3.7.9 64-bit",
   "name": "python3"
  },
  "language_info": {
   "codemirror_mode": {
    "name": "ipython",
    "version": 3
   },
   "file_extension": ".py",
   "mimetype": "text/x-python",
   "name": "python",
   "nbconvert_exporter": "python",
   "pygments_lexer": "ipython3",
   "version": "3.7.9"
  },
  "orig_nbformat": 4
 },
 "nbformat": 4,
 "nbformat_minor": 2
}
